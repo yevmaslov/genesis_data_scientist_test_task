{
 "cells": [
  {
   "cell_type": "code",
   "execution_count": 1,
   "metadata": {},
   "outputs": [],
   "source": [
    "import numpy as np\n",
    "import pandas as pd\n",
    "\n",
    "import matplotlib.pyplot as plt\n",
    "import seaborn as sns\n",
    "\n",
    "import os\n",
    "\n",
    "from src.utils import download_dataset\n",
    "\n",
    "from sklearn.metrics import accuracy_score, recall_score, precision_score, f1_score, roc_auc_score, roc_curve, precision_recall_curve"
   ]
  },
  {
   "cell_type": "code",
   "execution_count": 2,
   "metadata": {},
   "outputs": [
    {
     "name": "stdout",
     "output_type": "stream",
     "text": [
      "Dataset path:  data\\data_science_dataset_test_task.csv\n"
     ]
    }
   ],
   "source": [
    "data_path = 'data'\n",
    "csv_fn = os.path.join(data_path, 'data_science_dataset_test_task.csv')\n",
    "\n",
    "if not os.path.isfile(csv_fn):\n",
    "    print('Dataset not found, downloading dataset...')\n",
    "    os.mkdir(data_path)\n",
    "    download_dataset(csv_fn)\n",
    "    \n",
    "print('Dataset path: ', csv_fn)"
   ]
  },
  {
   "cell_type": "markdown",
   "metadata": {},
   "source": [
    "Поставленная задача - бинарная классификация, таргет определяет продлит ли пользователь подписку или нет."
   ]
  },
  {
   "cell_type": "code",
   "execution_count": 3,
   "metadata": {},
   "outputs": [
    {
     "name": "stdout",
     "output_type": "stream",
     "text": [
      "Dataframe shape:  (516180, 31)\n"
     ]
    },
    {
     "data": {
      "text/html": [
       "<div>\n",
       "<style scoped>\n",
       "    .dataframe tbody tr th:only-of-type {\n",
       "        vertical-align: middle;\n",
       "    }\n",
       "\n",
       "    .dataframe tbody tr th {\n",
       "        vertical-align: top;\n",
       "    }\n",
       "\n",
       "    .dataframe thead th {\n",
       "        text-align: right;\n",
       "    }\n",
       "</style>\n",
       "<table border=\"1\" class=\"dataframe\">\n",
       "  <thead>\n",
       "    <tr style=\"text-align: right;\">\n",
       "      <th></th>\n",
       "      <th>Unnamed: 0</th>\n",
       "      <th>current_dt</th>\n",
       "      <th>user_id</th>\n",
       "      <th>scheduled_dt</th>\n",
       "      <th>root_order_id</th>\n",
       "      <th>gender</th>\n",
       "      <th>age</th>\n",
       "      <th>os_family</th>\n",
       "      <th>lt_user</th>\n",
       "      <th>hours_after_reg_buy</th>\n",
       "      <th>...</th>\n",
       "      <th>was_3ds</th>\n",
       "      <th>card_type</th>\n",
       "      <th>card_country_code</th>\n",
       "      <th>success_orders</th>\n",
       "      <th>not_success_orders</th>\n",
       "      <th>insufficients</th>\n",
       "      <th>root_gross</th>\n",
       "      <th>not_root_gross</th>\n",
       "      <th>old_model_probability</th>\n",
       "      <th>is_success</th>\n",
       "    </tr>\n",
       "  </thead>\n",
       "  <tbody>\n",
       "    <tr>\n",
       "      <th>0</th>\n",
       "      <td>37</td>\n",
       "      <td>2019-05-12 05:40:15.355095</td>\n",
       "      <td>13801584</td>\n",
       "      <td>2019-06-09 00:00:00.000000</td>\n",
       "      <td>96601292</td>\n",
       "      <td>f</td>\n",
       "      <td>43</td>\n",
       "      <td>11</td>\n",
       "      <td>2</td>\n",
       "      <td>0</td>\n",
       "      <td>...</td>\n",
       "      <td>0</td>\n",
       "      <td>2.0</td>\n",
       "      <td>154</td>\n",
       "      <td>2</td>\n",
       "      <td>0</td>\n",
       "      <td>0</td>\n",
       "      <td>29.17</td>\n",
       "      <td>6.81</td>\n",
       "      <td>0.512364</td>\n",
       "      <td>1</td>\n",
       "    </tr>\n",
       "    <tr>\n",
       "      <th>1</th>\n",
       "      <td>45</td>\n",
       "      <td>2019-06-07 08:10:15.982701</td>\n",
       "      <td>16144816</td>\n",
       "      <td>2019-06-09 00:00:00.000000</td>\n",
       "      <td>116843195</td>\n",
       "      <td>f</td>\n",
       "      <td>25</td>\n",
       "      <td>11</td>\n",
       "      <td>4</td>\n",
       "      <td>76</td>\n",
       "      <td>...</td>\n",
       "      <td>0</td>\n",
       "      <td>2.0</td>\n",
       "      <td>3</td>\n",
       "      <td>2</td>\n",
       "      <td>1</td>\n",
       "      <td>1</td>\n",
       "      <td>0.47</td>\n",
       "      <td>0.46</td>\n",
       "      <td>0.133615</td>\n",
       "      <td>1</td>\n",
       "    </tr>\n",
       "    <tr>\n",
       "      <th>2</th>\n",
       "      <td>46</td>\n",
       "      <td>2019-06-07 08:10:15.982701</td>\n",
       "      <td>16467614</td>\n",
       "      <td>2019-06-09 00:00:00.000000</td>\n",
       "      <td>116847635</td>\n",
       "      <td>f</td>\n",
       "      <td>45</td>\n",
       "      <td>11</td>\n",
       "      <td>1</td>\n",
       "      <td>0</td>\n",
       "      <td>...</td>\n",
       "      <td>0</td>\n",
       "      <td>2.0</td>\n",
       "      <td>1</td>\n",
       "      <td>2</td>\n",
       "      <td>1</td>\n",
       "      <td>0</td>\n",
       "      <td>0.48</td>\n",
       "      <td>6.67</td>\n",
       "      <td>0.481923</td>\n",
       "      <td>0</td>\n",
       "    </tr>\n",
       "    <tr>\n",
       "      <th>3</th>\n",
       "      <td>47</td>\n",
       "      <td>2019-06-08 03:10:13.314904</td>\n",
       "      <td>16467614</td>\n",
       "      <td>2019-06-09 00:00:00.000000</td>\n",
       "      <td>116847635</td>\n",
       "      <td>f</td>\n",
       "      <td>45</td>\n",
       "      <td>11</td>\n",
       "      <td>2</td>\n",
       "      <td>0</td>\n",
       "      <td>...</td>\n",
       "      <td>0</td>\n",
       "      <td>2.0</td>\n",
       "      <td>1</td>\n",
       "      <td>2</td>\n",
       "      <td>1</td>\n",
       "      <td>0</td>\n",
       "      <td>0.48</td>\n",
       "      <td>6.67</td>\n",
       "      <td>0.485032</td>\n",
       "      <td>0</td>\n",
       "    </tr>\n",
       "    <tr>\n",
       "      <th>4</th>\n",
       "      <td>51</td>\n",
       "      <td>2019-06-07 08:10:15.982701</td>\n",
       "      <td>16482460</td>\n",
       "      <td>2019-06-09 00:00:00.000000</td>\n",
       "      <td>116953235</td>\n",
       "      <td>m</td>\n",
       "      <td>45</td>\n",
       "      <td>11</td>\n",
       "      <td>1</td>\n",
       "      <td>0</td>\n",
       "      <td>...</td>\n",
       "      <td>0</td>\n",
       "      <td>2.0</td>\n",
       "      <td>1</td>\n",
       "      <td>1</td>\n",
       "      <td>1</td>\n",
       "      <td>1</td>\n",
       "      <td>0.48</td>\n",
       "      <td>0.00</td>\n",
       "      <td>0.114275</td>\n",
       "      <td>0</td>\n",
       "    </tr>\n",
       "    <tr>\n",
       "      <th>5</th>\n",
       "      <td>52</td>\n",
       "      <td>2019-06-08 03:10:13.314904</td>\n",
       "      <td>16482460</td>\n",
       "      <td>2019-06-09 00:00:00.000000</td>\n",
       "      <td>116953235</td>\n",
       "      <td>m</td>\n",
       "      <td>45</td>\n",
       "      <td>11</td>\n",
       "      <td>2</td>\n",
       "      <td>0</td>\n",
       "      <td>...</td>\n",
       "      <td>0</td>\n",
       "      <td>2.0</td>\n",
       "      <td>1</td>\n",
       "      <td>1</td>\n",
       "      <td>1</td>\n",
       "      <td>1</td>\n",
       "      <td>0.48</td>\n",
       "      <td>0.00</td>\n",
       "      <td>0.114605</td>\n",
       "      <td>0</td>\n",
       "    </tr>\n",
       "    <tr>\n",
       "      <th>6</th>\n",
       "      <td>55</td>\n",
       "      <td>2019-06-07 08:10:15.982701</td>\n",
       "      <td>16493856</td>\n",
       "      <td>2019-06-09 00:00:00.000000</td>\n",
       "      <td>117041055</td>\n",
       "      <td>m</td>\n",
       "      <td>41</td>\n",
       "      <td>11</td>\n",
       "      <td>1</td>\n",
       "      <td>0</td>\n",
       "      <td>...</td>\n",
       "      <td>0</td>\n",
       "      <td>2.0</td>\n",
       "      <td>1</td>\n",
       "      <td>1</td>\n",
       "      <td>0</td>\n",
       "      <td>0</td>\n",
       "      <td>0.48</td>\n",
       "      <td>0.00</td>\n",
       "      <td>0.304778</td>\n",
       "      <td>1</td>\n",
       "    </tr>\n",
       "    <tr>\n",
       "      <th>7</th>\n",
       "      <td>56</td>\n",
       "      <td>2019-06-08 03:10:13.314904</td>\n",
       "      <td>16493856</td>\n",
       "      <td>2019-06-09 00:00:00.000000</td>\n",
       "      <td>117041055</td>\n",
       "      <td>m</td>\n",
       "      <td>41</td>\n",
       "      <td>11</td>\n",
       "      <td>2</td>\n",
       "      <td>0</td>\n",
       "      <td>...</td>\n",
       "      <td>0</td>\n",
       "      <td>2.0</td>\n",
       "      <td>1</td>\n",
       "      <td>1</td>\n",
       "      <td>0</td>\n",
       "      <td>0</td>\n",
       "      <td>0.48</td>\n",
       "      <td>0.00</td>\n",
       "      <td>0.305821</td>\n",
       "      <td>1</td>\n",
       "    </tr>\n",
       "    <tr>\n",
       "      <th>8</th>\n",
       "      <td>57</td>\n",
       "      <td>2019-06-07 08:10:15.982701</td>\n",
       "      <td>16461292</td>\n",
       "      <td>2019-06-09 00:00:00.000000</td>\n",
       "      <td>117058275</td>\n",
       "      <td>m</td>\n",
       "      <td>34</td>\n",
       "      <td>11</td>\n",
       "      <td>1</td>\n",
       "      <td>8</td>\n",
       "      <td>...</td>\n",
       "      <td>0</td>\n",
       "      <td>2.0</td>\n",
       "      <td>1</td>\n",
       "      <td>2</td>\n",
       "      <td>0</td>\n",
       "      <td>0</td>\n",
       "      <td>0.48</td>\n",
       "      <td>6.67</td>\n",
       "      <td>0.429660</td>\n",
       "      <td>1</td>\n",
       "    </tr>\n",
       "    <tr>\n",
       "      <th>9</th>\n",
       "      <td>58</td>\n",
       "      <td>2019-06-08 03:10:13.314904</td>\n",
       "      <td>16461292</td>\n",
       "      <td>2019-06-09 00:00:00.000000</td>\n",
       "      <td>117058275</td>\n",
       "      <td>m</td>\n",
       "      <td>34</td>\n",
       "      <td>11</td>\n",
       "      <td>2</td>\n",
       "      <td>8</td>\n",
       "      <td>...</td>\n",
       "      <td>0</td>\n",
       "      <td>2.0</td>\n",
       "      <td>1</td>\n",
       "      <td>2</td>\n",
       "      <td>0</td>\n",
       "      <td>0</td>\n",
       "      <td>0.48</td>\n",
       "      <td>6.67</td>\n",
       "      <td>0.433980</td>\n",
       "      <td>1</td>\n",
       "    </tr>\n",
       "  </tbody>\n",
       "</table>\n",
       "<p>10 rows × 31 columns</p>\n",
       "</div>"
      ],
      "text/plain": [
       "   Unnamed: 0                  current_dt   user_id  \\\n",
       "0          37  2019-05-12 05:40:15.355095  13801584   \n",
       "1          45  2019-06-07 08:10:15.982701  16144816   \n",
       "2          46  2019-06-07 08:10:15.982701  16467614   \n",
       "3          47  2019-06-08 03:10:13.314904  16467614   \n",
       "4          51  2019-06-07 08:10:15.982701  16482460   \n",
       "5          52  2019-06-08 03:10:13.314904  16482460   \n",
       "6          55  2019-06-07 08:10:15.982701  16493856   \n",
       "7          56  2019-06-08 03:10:13.314904  16493856   \n",
       "8          57  2019-06-07 08:10:15.982701  16461292   \n",
       "9          58  2019-06-08 03:10:13.314904  16461292   \n",
       "\n",
       "                 scheduled_dt  root_order_id gender  age  os_family  lt_user  \\\n",
       "0  2019-06-09 00:00:00.000000       96601292      f   43         11        2   \n",
       "1  2019-06-09 00:00:00.000000      116843195      f   25         11        4   \n",
       "2  2019-06-09 00:00:00.000000      116847635      f   45         11        1   \n",
       "3  2019-06-09 00:00:00.000000      116847635      f   45         11        2   \n",
       "4  2019-06-09 00:00:00.000000      116953235      m   45         11        1   \n",
       "5  2019-06-09 00:00:00.000000      116953235      m   45         11        2   \n",
       "6  2019-06-09 00:00:00.000000      117041055      m   41         11        1   \n",
       "7  2019-06-09 00:00:00.000000      117041055      m   41         11        2   \n",
       "8  2019-06-09 00:00:00.000000      117058275      m   34         11        1   \n",
       "9  2019-06-09 00:00:00.000000      117058275      m   34         11        2   \n",
       "\n",
       "   hours_after_reg_buy  ...  was_3ds  card_type  card_country_code  \\\n",
       "0                    0  ...        0        2.0                154   \n",
       "1                   76  ...        0        2.0                  3   \n",
       "2                    0  ...        0        2.0                  1   \n",
       "3                    0  ...        0        2.0                  1   \n",
       "4                    0  ...        0        2.0                  1   \n",
       "5                    0  ...        0        2.0                  1   \n",
       "6                    0  ...        0        2.0                  1   \n",
       "7                    0  ...        0        2.0                  1   \n",
       "8                    8  ...        0        2.0                  1   \n",
       "9                    8  ...        0        2.0                  1   \n",
       "\n",
       "   success_orders  not_success_orders  insufficients  root_gross  \\\n",
       "0               2                   0              0       29.17   \n",
       "1               2                   1              1        0.47   \n",
       "2               2                   1              0        0.48   \n",
       "3               2                   1              0        0.48   \n",
       "4               1                   1              1        0.48   \n",
       "5               1                   1              1        0.48   \n",
       "6               1                   0              0        0.48   \n",
       "7               1                   0              0        0.48   \n",
       "8               2                   0              0        0.48   \n",
       "9               2                   0              0        0.48   \n",
       "\n",
       "   not_root_gross  old_model_probability  is_success  \n",
       "0            6.81               0.512364           1  \n",
       "1            0.46               0.133615           1  \n",
       "2            6.67               0.481923           0  \n",
       "3            6.67               0.485032           0  \n",
       "4            0.00               0.114275           0  \n",
       "5            0.00               0.114605           0  \n",
       "6            0.00               0.304778           1  \n",
       "7            0.00               0.305821           1  \n",
       "8            6.67               0.429660           1  \n",
       "9            6.67               0.433980           1  \n",
       "\n",
       "[10 rows x 31 columns]"
      ]
     },
     "execution_count": 3,
     "metadata": {},
     "output_type": "execute_result"
    }
   ],
   "source": [
    "df = pd.read_csv(csv_fn)\n",
    "\n",
    "print('Dataframe shape: ', df.shape)\n",
    "df.head(10)"
   ]
  },
  {
   "cell_type": "markdown",
   "metadata": {},
   "source": [
    "### EDA\n",
    "\n",
    "Для начала посмотрим на признаки, их распределения, взаимосвязь с таргетом. Описание признаков, предоставленное вместе с данными:\n",
    "\n",
    "| Column name             | Data type   | Description                                                           |\n",
    "| ----------------------- | ----------- | ------------------------------------------------------------------------------------------------------------------------------------------------------------------------------------------------------ |\n",
    "| current\\_dt             | timestamp   | в какой момент времени была собрана информация                                                                                                                                                         |\n",
    "| user\\_id                | id          | уникальный индефикатор пользователя                                                                                                                                                                    |\n",
    "| scheduled\\_dt           | timestamp   | дата на которую запланировано автопродление                                                                                                                                                            |\n",
    "| root\\_order\\_id         | id          | уникальный индефикатор подписки                                                                                                                                                                        |\n",
    "| gender                  | categorical | пол пользователя                                                                                                                                                                                       |\n",
    "| age                     | categorical | возраст пользователя                                                                                                                                                                                   |\n",
    "| os\\_family              | categorical | операционная система пользователя                                                                                                                                                                      |\n",
    "| lt\\_user                | nominal     | lifetime пользователя                                                                                                                                                                                  |\n",
    "| hours\\_after\\_reg\\_buy  | nominal     | через сколько часов после регистрации пользователь оформил подписку                                                                                                                                    |\n",
    "| country\\_code           | categorical | страна пользователя                                                                                                                                                                                    |\n",
    "| phone                   | categorical | марка телефона пользователя                                                                                                                                                                            |\n",
    "| cpa                     | nominal     | СPA по которому был привлечен пользователь                                                                                                                                                             |\n",
    "| retry\\_number           | nominal     | номер попытки автопродлить подписку                                                                                                                                                                    |\n",
    "| period                  | categorical | на какой период оформлена подписка                                                                                                                                                                     |\n",
    "| gross                   | nominal     | сколько стоит продление подписки                                                                                                                                                                       |\n",
    "| currency\\_id            | categorical | валюта в какой оформлена подписка                                                                                                                                                                      |\n",
    "| discount                | nominal     | размер скидки на продление                                                                                                                                                                             |\n",
    "| psp                     | categorical | платежный шлюз                                                                                                                                                                                         |\n",
    "| last\\_response\\_code    | categorical | при неудачных попытках автопродлить подписку платежный сервис отдает причину неудачи (response\\_code). last\\_response\\_code говорит какой был ответ при прошлой попытке продлить подписку пользователю |\n",
    "| bank                    | categorical | банк в котором оформлена карта пользователя                                                                                                                                                            |\n",
    "| was\\_3ds                | binary      | проходило ли оформление подписки через 3D Secure                                                                                                                                                       |\n",
    "| card\\_type              | categorical | тип карты                                                                                                                                                                                              |\n",
    "| card\\_country\\_code     | categorical | страна оформления карты                                                                                                                                                                                |\n",
    "| success\\_orders         | nominal     | количество успешных оплат пользователя                                                                                                                                                                 |\n",
    "| not\\_success\\_orders    | nominal     | количество не успешных оплат пользователя                                                                                                                                                              |\n",
    "| insufficients           | nominal     | количество не успешных оплат пользователя по причине недостаточного количества средств на карте                                                                                                        |\n",
    "| root\\_gross             | nominal     | на какую сумму пользователь уже оформил данную подписку                                                                                                                                                |\n",
    "| not\\_root\\_gross        | nominal     | какую сумму пользователь потратил без учета данной подписки                                                                                                                                            |\n",
    "| old\\_model\\_probability |             | вероятность успешного продления данной подписки, которое отдает старая модель                                                                                                                          |\n",
    "| is\\_success             |             | результат - произошло ли продление подписки                                                                                                                                                            |\n"
   ]
  },
  {
   "cell_type": "markdown",
   "metadata": {},
   "source": [
    "В датасете помимо вышеперечисленных 30 признаков есть также столбец `Unnamed: 0`, скорее всего этот столбец - индексы строк датасета из которого бралась эта подвыборка; он остался из за того что при сохранении данных в файл в функцию `to_csv()` не было передано значение параметра `index=False`. Данный столбец можно дропнуть."
   ]
  },
  {
   "cell_type": "markdown",
   "metadata": {},
   "source": [
    "Категориальные столбцы в последствии нужно закодировать можно использовать несколько способов:\n",
    "1. Для категорий которые можно проранжировать можно использовать Ordinal Encoding (если есть категории low, medium, high они будут закодированы 0, 1, 2 соответственно)\n",
    "2. Можно использовать OneHotEncoding, что создаст определенное количество бинарных столбцов (если брать пример выше, будут созданы 3 столбца category_low, category_medium, category_high, и для значения категории medium вектор будет 0, 1, 0; изначальный столбец category будет дропнут; в зависимости от реализации один из столбоцов с категориями может быть дропнут, к примеру если category_low и category_medium соответствуют значениям 0, 0 то можно однозначно сказать что category_high будет равен 1, и по сути нам не нужен этот столбец). Это расширяет пространство признаков, что может усложнить обучаемость некоторых моделей (к примеру SVM). Может возникать curse of dimensionality.\n",
    "3. Можно закодировать категории чем то вроде TargetEncoding, который меняет категорию на частоту ее встречаемости в зависимости от таргета\n",
    "4. Можно попробовать более экзотические вещи, например конвертировать все категориальные значения объекта в строку, затем смоделировать векторное представление используя LSA. Или использовать нечто вроде group2vec. Не уверен что такие способы зайдут конкретно для данной задачи и данных, но попробовать стоит. "
   ]
  },
  {
   "cell_type": "code",
   "execution_count": 4,
   "metadata": {},
   "outputs": [
    {
     "name": "stdout",
     "output_type": "stream",
     "text": [
      "<class 'pandas.core.frame.DataFrame'>\n",
      "RangeIndex: 516180 entries, 0 to 516179\n",
      "Data columns (total 31 columns):\n",
      " #   Column                 Non-Null Count   Dtype  \n",
      "---  ------                 --------------   -----  \n",
      " 0   Unnamed: 0             516180 non-null  int64  \n",
      " 1   current_dt             516180 non-null  object \n",
      " 2   user_id                516180 non-null  int64  \n",
      " 3   scheduled_dt           516180 non-null  object \n",
      " 4   root_order_id          516180 non-null  int64  \n",
      " 5   gender                 516180 non-null  object \n",
      " 6   age                    516180 non-null  int64  \n",
      " 7   os_family              516180 non-null  int64  \n",
      " 8   lt_user                516180 non-null  int64  \n",
      " 9   hours_after_reg_buy    516180 non-null  int64  \n",
      " 10  country_code           516180 non-null  int64  \n",
      " 11  phone                  516165 non-null  float64\n",
      " 12  cpa                    516180 non-null  float64\n",
      " 13  retry_number           516180 non-null  int64  \n",
      " 14  period                 516180 non-null  int64  \n",
      " 15  gross                  516180 non-null  float64\n",
      " 16  currency_id            516180 non-null  int64  \n",
      " 17  discount               516180 non-null  int64  \n",
      " 18  psp                    516180 non-null  int64  \n",
      " 19  last_response_code     516180 non-null  int64  \n",
      " 20  bank                   482557 non-null  float64\n",
      " 21  was_3ds                516180 non-null  int64  \n",
      " 22  card_type              491318 non-null  float64\n",
      " 23  card_country_code      516180 non-null  int64  \n",
      " 24  success_orders         516180 non-null  int64  \n",
      " 25  not_success_orders     516180 non-null  int64  \n",
      " 26  insufficients          516180 non-null  int64  \n",
      " 27  root_gross             516180 non-null  float64\n",
      " 28  not_root_gross         516180 non-null  float64\n",
      " 29  old_model_probability  516180 non-null  float64\n",
      " 30  is_success             516180 non-null  int64  \n",
      "dtypes: float64(8), int64(20), object(3)\n",
      "memory usage: 122.1+ MB\n"
     ]
    }
   ],
   "source": [
    "df.info()"
   ]
  },
  {
   "cell_type": "code",
   "execution_count": 5,
   "metadata": {},
   "outputs": [
    {
     "name": "stdout",
     "output_type": "stream",
     "text": [
      "Columns with NaN values:  ['phone' 'bank' 'card_type']\n",
      "Missing value count:\n",
      "\n"
     ]
    },
    {
     "data": {
      "text/plain": [
       "phone           15\n",
       "bank         33623\n",
       "card_type    24862\n",
       "dtype: int64"
      ]
     },
     "execution_count": 5,
     "metadata": {},
     "output_type": "execute_result"
    }
   ],
   "source": [
    "columns_with_na = df.columns[df.isna().sum() > 0].values\n",
    "print('Columns with NaN values: ', columns_with_na)\n",
    "print('Missing value count:\\n')\n",
    "\n",
    "df[columns_with_na].isna().sum()"
   ]
  },
  {
   "cell_type": "markdown",
   "metadata": {},
   "source": [
    "При обработке данных необходимо будет вставить пропущенные значения в датафрейм, так как многие алгоритмы машинного обучения не могут работать с пропущенными значениями. Если использовать модели основанные на деревьях решений, данный момент можно опустить.\n",
    "\n",
    "В дальнейшем буду тестировать разные модели, поэтому заполню пропущенные значения, предлагаю попробовать несколько разных вариантов и посмотреть какой даст лучший результат:\n",
    "1. Так как записей с пропущенным номером телефона немного, можно попробовать дропнуть эти строки\n",
    "2. Вставим константные значения 0, среднего, медианы, моды (для категориальных)\n",
    "3. Вставим значения вне диапазона (к примеру -1 для признака, значения которых лежат от 0 до +бесконечности) и создадим столбец, показывающий было ли значение пропущено.\n",
    "4. Нормализуем данные и подберем пропущенные значения методом ближайших соседей."
   ]
  },
  {
   "cell_type": "code",
   "execution_count": 6,
   "metadata": {},
   "outputs": [
    {
     "data": {
      "image/png": "[encoded data removed]",
      "text/plain": [
       "<Figure size 1296x288 with 1 Axes>"
      ]
     },
     "metadata": {
      "needs_background": "light"
     },
     "output_type": "display_data"
    }
   ],
   "source": [
    "fig, ax = plt.subplots(1, 1, figsize=(18, 4))\n",
    "sns.countplot(data=df, x='is_success', ax=ax)\n",
    "ax.set_title('Target distribution')\n",
    "plt.show()"
   ]
  },
  {
   "cell_type": "markdown",
   "metadata": {},
   "source": [
    "Таргет крайне не сбалансирован, первое что приходит на ум - нельзя использовать метрику вроде точности. Можно оценивать precision, recall, f1. Также можно попробовать использовать стратегии для несбалансированных выборок - undersampling, oversampling, комбинированные решения. "
   ]
  },
  {
   "cell_type": "markdown",
   "metadata": {},
   "source": [
    "### Анализ результатов предыдущей модели"
   ]
  },
  {
   "cell_type": "code",
   "execution_count": 7,
   "metadata": {},
   "outputs": [
    {
     "data": {
      "image/png": "[encoded data removed]",
      "text/plain": [
       "<Figure size 1296x576 with 1 Axes>"
      ]
     },
     "metadata": {
      "needs_background": "light"
     },
     "output_type": "display_data"
    }
   ],
   "source": [
    "fig, ax = plt.subplots(1, 1, figsize=(18, 8))\n",
    "sns.histplot(data=df, x='old_model_probability', ax=ax, hue='is_success')\n",
    "ax.set_title('Old model probabilities distribution')\n",
    "plt.show()"
   ]
  },
  {
   "cell_type": "markdown",
   "metadata": {},
   "source": [
    "Плотность вероятности того что пользователь продлит подписку, предсказанная предыдущей моделью, сосредоточена в диапазоне от 0 до 0.6, что может говорить о нерепрезентативных признаках, на которых обучали модель. У модели, обученной на сбалансированной выборке и репрезентативных признаках, в задаче бинарной классификации распределение вероятностей должно быть бимодальным, с модами ближе к 0 и 1."
   ]
  },
  {
   "cell_type": "code",
   "execution_count": 8,
   "metadata": {},
   "outputs": [
    {
     "name": "stdout",
     "output_type": "stream",
     "text": [
      "Old model precision:  0.5280912269548633\n",
      "Old model recall:  0.12541518834453083\n",
      "Old model f1:  0.20269322271701337\n",
      "Old model roc_auc:  0.5482306509927743\n"
     ]
    }
   ],
   "source": [
    "threshold = 0.5\n",
    "old_model_probability = df.old_model_probability.values\n",
    "\n",
    "targets = df.is_success.values\n",
    "old_model_predictions = np.array(old_model_probability > threshold, dtype='int8')\n",
    "\n",
    "precision = precision_score(targets, old_model_predictions)\n",
    "recall = recall_score(targets, old_model_predictions)\n",
    "f1 = f1_score(targets, old_model_predictions)\n",
    "roc_auc = roc_auc_score(targets, old_model_predictions)\n",
    "\n",
    "print('Old model precision: ', precision)\n",
    "print('Old model recall: ', recall)\n",
    "print('Old model f1: ', f1)\n",
    "print('Old model roc_auc: ', roc_auc)"
   ]
  },
  {
   "cell_type": "markdown",
   "metadata": {},
   "source": [
    "При пороге 0.5, если считать что старая модель предсказывает 1 при вероятности больше порога, получаются весьма посредственные значения метрик. Грубо говоря, каждый второй предикт, показывающий что пользователь продлит подписку, ошибочен (precision)."
   ]
  },
  {
   "cell_type": "code",
   "execution_count": 9,
   "metadata": {},
   "outputs": [
    {
     "name": "stderr",
     "output_type": "stream",
     "text": [
      "C:\\Users\\sqrte\\anaconda3\\lib\\site-packages\\sklearn\\metrics\\_classification.py:1221: UndefinedMetricWarning: Precision is ill-defined and being set to 0.0 due to no predicted samples. Use `zero_division` parameter to control this behavior.\n",
      "  _warn_prf(average, modifier, msg_start, len(result))\n"
     ]
    },
    {
     "data": {
      "image/png": "[encoded data removed]",
      "text/plain": [
       "<Figure size 1296x576 with 1 Axes>"
      ]
     },
     "metadata": {
      "needs_background": "light"
     },
     "output_type": "display_data"
    }
   ],
   "source": [
    "precisions = []\n",
    "recalls = []\n",
    "\n",
    "x = np.arange(0, 1, 0.01)\n",
    "for threshold in x:\n",
    "    old_model_predictions = np.array(old_model_probability > threshold, dtype='int8')\n",
    "    precision = precision_score(targets, old_model_predictions)\n",
    "    recall = recall_score(targets, old_model_predictions)\n",
    "    \n",
    "    precisions.append(precision)\n",
    "    recalls.append(recall)\n",
    "    \n",
    "fig, ax = plt.subplots(1, 1, figsize=(18,8))\n",
    "ax.set_title('Precision-Recall Tradeoff')\n",
    "ax.plot(x, precisions, label='Precision')\n",
    "ax.plot(x, recalls, label='Recall')\n",
    "ax.legend()\n",
    "plt.show()"
   ]
  },
  {
   "cell_type": "markdown",
   "metadata": {},
   "source": [
    "Модель не предсказывала вероятности, которые были бы выше 0.96, в связи с эти график precision-а выглядит весьма странно."
   ]
  },
  {
   "cell_type": "code",
   "execution_count": 11,
   "metadata": {},
   "outputs": [
    {
     "data": {
      "image/png": "[encoded data removed]",
      "text/plain": [
       "<Figure size 1296x576 with 2 Axes>"
      ]
     },
     "metadata": {
      "needs_background": "light"
     },
     "output_type": "display_data"
    }
   ],
   "source": [
    "fpr, tpr, _ = roc_curve(targets, old_model_probability)\n",
    "precision, recall, _ = precision_recall_curve(targets, old_model_probability)\n",
    "\n",
    "fig, axs = plt.subplots(1, 2, figsize=(18, 8))\n",
    "\n",
    "lw = 2\n",
    "axs[0].plot(fpr, tpr)\n",
    "axs[0].plot([0, 1], [0, 1], color='gray', lw=lw, linestyle='--')\n",
    "axs[0].set_title('Receiver operating characteristic')\n",
    "axs[0].set_xlabel('False Positive Rate')\n",
    "axs[0].set_ylabel('True Positive Rate')\n",
    "\n",
    "axs[1].plot(recall, precision)\n",
    "axs[1].set_title('Precision-recall curve')\n",
    "axs[1].set_xlabel('Recall')\n",
    "axs[1].set_ylabel('Precision')\n",
    "plt.show()"
   ]
  },
  {
   "cell_type": "markdown",
   "metadata": {},
   "source": [
    "### gender"
   ]
  },
  {
   "cell_type": "code",
   "execution_count": 12,
   "metadata": {},
   "outputs": [
    {
     "data": {
      "image/png": "[encoded data removed]",
      "text/plain": [
       "<Figure size 1296x576 with 1 Axes>"
      ]
     },
     "metadata": {
      "needs_background": "light"
     },
     "output_type": "display_data"
    }
   ],
   "source": [
    "fig, ax = plt.subplots(1, 1, figsize=(18,8))\n",
    "sns.countplot(data=df, x='age', ax=ax)\n",
    "plt.show()"
   ]
  },
  {
   "cell_type": "code",
   "execution_count": 13,
   "metadata": {},
   "outputs": [
    {
     "name": "stdout",
     "output_type": "stream",
     "text": [
      "Percent of people who buy subscription per gender: \n"
     ]
    },
    {
     "data": {
      "text/html": [
       "<div>\n",
       "<style scoped>\n",
       "    .dataframe tbody tr th:only-of-type {\n",
       "        vertical-align: middle;\n",
       "    }\n",
       "\n",
       "    .dataframe tbody tr th {\n",
       "        vertical-align: top;\n",
       "    }\n",
       "\n",
       "    .dataframe thead th {\n",
       "        text-align: right;\n",
       "    }\n",
       "</style>\n",
       "<table border=\"1\" class=\"dataframe\">\n",
       "  <thead>\n",
       "    <tr style=\"text-align: right;\">\n",
       "      <th></th>\n",
       "      <th>gender</th>\n",
       "      <th>is_success</th>\n",
       "    </tr>\n",
       "  </thead>\n",
       "  <tbody>\n",
       "    <tr>\n",
       "      <th>0</th>\n",
       "      <td>f</td>\n",
       "      <td>0.260086</td>\n",
       "    </tr>\n",
       "    <tr>\n",
       "      <th>1</th>\n",
       "      <td>m</td>\n",
       "      <td>0.193226</td>\n",
       "    </tr>\n",
       "  </tbody>\n",
       "</table>\n",
       "</div>"
      ],
      "text/plain": [
       "  gender  is_success\n",
       "0      f    0.260086\n",
       "1      m    0.193226"
      ]
     },
     "execution_count": 13,
     "metadata": {},
     "output_type": "execute_result"
    }
   ],
   "source": [
    "print('Percent of people who buy subscription per gender: ')\n",
    "df.groupby('gender').agg({'is_success': 'mean'}).reset_index()"
   ]
  },
  {
   "cell_type": "markdown",
   "metadata": {},
   "source": [
    "Большая часть аудитории - мужчины, столбец можно закодировать бинарно - 1 если пользователь женщина, 0 если мужчина. При этом предварительно можно сказать, что женщины более склоны к продлению подписки."
   ]
  },
  {
   "cell_type": "markdown",
   "metadata": {},
   "source": [
    "### age"
   ]
  },
  {
   "cell_type": "code",
   "execution_count": 14,
   "metadata": {},
   "outputs": [
    {
     "data": {
      "image/png": "[encoded data removed]",
      "text/plain": [
       "<Figure size 1296x576 with 1 Axes>"
      ]
     },
     "metadata": {
      "needs_background": "light"
     },
     "output_type": "display_data"
    }
   ],
   "source": [
    "fig, ax = plt.subplots(1, 1, figsize=(18,8))\n",
    "sns.countplot(data=df, x='age', ax=ax)\n",
    "plt.show()"
   ]
  },
  {
   "cell_type": "code",
   "execution_count": 15,
   "metadata": {
    "scrolled": false
   },
   "outputs": [
    {
     "data": {
      "image/png": "[encoded data removed]",
      "text/plain": [
       "<Figure size 1296x576 with 1 Axes>"
      ]
     },
     "metadata": {
      "needs_background": "light"
     },
     "output_type": "display_data"
    }
   ],
   "source": [
    "number_of_peoples_tr = 30\n",
    "sub_per_age = df.groupby('age').agg({'is_success': 'mean', 'user_id': 'count'}).reset_index()\n",
    "sub_per_age = sub_per_age[sub_per_age['user_id'] > number_of_peoples_tr]\n",
    "\n",
    "fig, ax = plt.subplots(1, 1, figsize=(18, 8))\n",
    "ax.plot(sub_per_age.age, sub_per_age.is_success)\n",
    "ax.set_title('Percent of subscriptions per age')\n",
    "ax.set_xlabel('Age')\n",
    "ax.set_ylabel('Percent of subscriptions')\n",
    "ax.grid()\n",
    "plt.show()"
   ]
  },
  {
   "cell_type": "markdown",
   "metadata": {},
   "source": [
    "На графике выше представлен процент пользователей купивших подписку в зависимости от возраста. Так как количество пользователей в возрасте 60 лет и старше относительно мало, график в правой части становится слишком шумным. Чтобы хоть как то это пофиксить, выбирал только возраста с количеством пользователей больше определенного порога. В целом можно сказать что пользователи постарше более склонны продлить подписку. "
   ]
  },
  {
   "cell_type": "markdown",
   "metadata": {},
   "source": [
    "### age vs gender"
   ]
  },
  {
   "cell_type": "code",
   "execution_count": 16,
   "metadata": {},
   "outputs": [
    {
     "data": {
      "image/png": "[encoded data removed]",
      "text/plain": [
       "<Figure size 1296x576 with 1 Axes>"
      ]
     },
     "metadata": {
      "needs_background": "light"
     },
     "output_type": "display_data"
    }
   ],
   "source": [
    "fig, ax = plt.subplots(1, 1, figsize=(18,8))\n",
    "sns.histplot(data=df, x='age', hue='gender', ax=ax)\n",
    "ax.set_title('Age vs gender distribution')\n",
    "plt.show()"
   ]
  },
  {
   "cell_type": "code",
   "execution_count": 17,
   "metadata": {},
   "outputs": [
    {
     "data": {
      "text/html": [
       "<div>\n",
       "<style scoped>\n",
       "    .dataframe tbody tr th:only-of-type {\n",
       "        vertical-align: middle;\n",
       "    }\n",
       "\n",
       "    .dataframe tbody tr th {\n",
       "        vertical-align: top;\n",
       "    }\n",
       "\n",
       "    .dataframe thead tr th {\n",
       "        text-align: left;\n",
       "    }\n",
       "</style>\n",
       "<table border=\"1\" class=\"dataframe\">\n",
       "  <thead>\n",
       "    <tr>\n",
       "      <th></th>\n",
       "      <th>gender</th>\n",
       "      <th colspan=\"4\" halign=\"left\">age</th>\n",
       "    </tr>\n",
       "    <tr>\n",
       "      <th></th>\n",
       "      <th></th>\n",
       "      <th>mean</th>\n",
       "      <th>median</th>\n",
       "      <th>min</th>\n",
       "      <th>max</th>\n",
       "    </tr>\n",
       "  </thead>\n",
       "  <tbody>\n",
       "    <tr>\n",
       "      <th>0</th>\n",
       "      <td>f</td>\n",
       "      <td>40.354889</td>\n",
       "      <td>40</td>\n",
       "      <td>18</td>\n",
       "      <td>79</td>\n",
       "    </tr>\n",
       "    <tr>\n",
       "      <th>1</th>\n",
       "      <td>m</td>\n",
       "      <td>35.214534</td>\n",
       "      <td>34</td>\n",
       "      <td>18</td>\n",
       "      <td>86</td>\n",
       "    </tr>\n",
       "  </tbody>\n",
       "</table>\n",
       "</div>"
      ],
      "text/plain": [
       "  gender        age               \n",
       "               mean median min max\n",
       "0      f  40.354889     40  18  79\n",
       "1      m  35.214534     34  18  86"
      ]
     },
     "execution_count": 17,
     "metadata": {},
     "output_type": "execute_result"
    }
   ],
   "source": [
    "age_gender = df.groupby(['gender']).agg({'age':['mean', 'median', 'min', 'max']}).reset_index()\n",
    "age_gender"
   ]
  },
  {
   "cell_type": "markdown",
   "metadata": {},
   "source": [
    "Средний возраст мужской аудитории меньше чем женской на 5-6 лет."
   ]
  },
  {
   "cell_type": "markdown",
   "metadata": {},
   "source": [
    "### age vs gender vs is_success"
   ]
  },
  {
   "cell_type": "code",
   "execution_count": 18,
   "metadata": {},
   "outputs": [
    {
     "data": {
      "image/png": "[encoded data removed]",
      "text/plain": [
       "<Figure size 1296x576 with 1 Axes>"
      ]
     },
     "metadata": {
      "needs_background": "light"
     },
     "output_type": "display_data"
    }
   ],
   "source": [
    "number_of_peoples_tr = 30\n",
    "sub_per_age = df.groupby(['age', 'gender']).agg({'is_success': 'mean', 'user_id': 'count'}).reset_index()\n",
    "\n",
    "womens = sub_per_age[sub_per_age['gender'] == 'f']\n",
    "mens = sub_per_age[sub_per_age['gender'] == 'm']\n",
    "\n",
    "womens = womens[womens['user_id'] > number_of_peoples_tr]\n",
    "mens = mens[mens['user_id'] > number_of_peoples_tr]\n",
    "\n",
    "fig, ax = plt.subplots(1, 1, figsize=(18, 8))\n",
    "ax.plot(womens.age, womens.is_success, label='Womens')\n",
    "ax.plot(mens.age, mens.is_success, label='Mens')\n",
    "ax.set_title('Percent of subscriptions per age')\n",
    "ax.set_xlabel('Age')\n",
    "ax.set_ylabel('Percent of subscriptions')\n",
    "ax.grid()\n",
    "ax.legend()\n",
    "plt.show()"
   ]
  },
  {
   "cell_type": "markdown",
   "metadata": {},
   "source": [
    "Интересно заметить, что в то время когда процент подписок у мужчин растет более-менее равномерно в зависимости от возраста, у женщин после 40-45 идет небольшая просадка. Более явно увидеть этот тренд можно, если использовать скользящее среднее."
   ]
  },
  {
   "cell_type": "code",
   "execution_count": 19,
   "metadata": {},
   "outputs": [
    {
     "data": {
      "image/png": "[encoded data removed]",
      "text/plain": [
       "<Figure size 1296x576 with 1 Axes>"
      ]
     },
     "metadata": {
      "needs_background": "light"
     },
     "output_type": "display_data"
    }
   ],
   "source": [
    "wmn_success_rate = womens.is_success.values\n",
    "men_success_rate = mens.is_success.values\n",
    "\n",
    "window_size = 5\n",
    "\n",
    "wmn_window_data = []\n",
    "for i in range(0, len(wmn_success_rate), window_size):\n",
    "    wmn_window_data.append(np.mean(wmn_success_rate[i:i+window_size]))\n",
    "    \n",
    "men_window_data = []\n",
    "for i in range(0, len(men_success_rate), window_size):\n",
    "    men_window_data.append(np.mean(men_success_rate[i:i+window_size]))\n",
    "    \n",
    "wmn_x = np.arange(len(wmn_window_data)) * window_size + 18\n",
    "men_x = np.arange(len(men_window_data)) * window_size + 18\n",
    "\n",
    "fig, ax = plt.subplots(1, 1, figsize=(18, 8))\n",
    "ax.plot(wmn_x, wmn_window_data, label='Womens')\n",
    "ax.plot(men_x, men_window_data, label='Mens')\n",
    "ax.set_title('Trend of percent of subscriptions')\n",
    "ax.set_xlabel('Age')\n",
    "ax.set_ylabel('Percent of subscriptions')\n",
    "ax.grid()\n",
    "ax.legend()\n",
    "plt.show()"
   ]
  },
  {
   "cell_type": "markdown",
   "metadata": {},
   "source": [
    "### os_family"
   ]
  },
  {
   "cell_type": "code",
   "execution_count": 20,
   "metadata": {},
   "outputs": [
    {
     "data": {
      "image/png": "[encoded data removed]",
      "text/plain": [
       "<Figure size 1296x576 with 1 Axes>"
      ]
     },
     "metadata": {
      "needs_background": "light"
     },
     "output_type": "display_data"
    }
   ],
   "source": [
    "fig, ax = plt.subplots(1, 1, figsize=(18,8))\n",
    "sns.countplot(data=df, x='os_family', hue='is_success', ax=ax)\n",
    "ax.set_title('os family counts')\n",
    "plt.show()"
   ]
  },
  {
   "cell_type": "code",
   "execution_count": 21,
   "metadata": {},
   "outputs": [
    {
     "data": {
      "text/html": [
       "<div>\n",
       "<style scoped>\n",
       "    .dataframe tbody tr th:only-of-type {\n",
       "        vertical-align: middle;\n",
       "    }\n",
       "\n",
       "    .dataframe tbody tr th {\n",
       "        vertical-align: top;\n",
       "    }\n",
       "\n",
       "    .dataframe thead th {\n",
       "        text-align: right;\n",
       "    }\n",
       "</style>\n",
       "<table border=\"1\" class=\"dataframe\">\n",
       "  <thead>\n",
       "    <tr style=\"text-align: right;\">\n",
       "      <th></th>\n",
       "      <th>os_family</th>\n",
       "      <th>is_success</th>\n",
       "    </tr>\n",
       "  </thead>\n",
       "  <tbody>\n",
       "    <tr>\n",
       "      <th>0</th>\n",
       "      <td>1</td>\n",
       "      <td>0.000000</td>\n",
       "    </tr>\n",
       "    <tr>\n",
       "      <th>1</th>\n",
       "      <td>2</td>\n",
       "      <td>0.316652</td>\n",
       "    </tr>\n",
       "    <tr>\n",
       "      <th>2</th>\n",
       "      <td>3</td>\n",
       "      <td>0.231806</td>\n",
       "    </tr>\n",
       "    <tr>\n",
       "      <th>3</th>\n",
       "      <td>4</td>\n",
       "      <td>0.158915</td>\n",
       "    </tr>\n",
       "    <tr>\n",
       "      <th>4</th>\n",
       "      <td>5</td>\n",
       "      <td>0.241785</td>\n",
       "    </tr>\n",
       "    <tr>\n",
       "      <th>5</th>\n",
       "      <td>6</td>\n",
       "      <td>0.409091</td>\n",
       "    </tr>\n",
       "    <tr>\n",
       "      <th>6</th>\n",
       "      <td>7</td>\n",
       "      <td>0.000000</td>\n",
       "    </tr>\n",
       "    <tr>\n",
       "      <th>7</th>\n",
       "      <td>8</td>\n",
       "      <td>0.204819</td>\n",
       "    </tr>\n",
       "    <tr>\n",
       "      <th>8</th>\n",
       "      <td>9</td>\n",
       "      <td>0.263158</td>\n",
       "    </tr>\n",
       "    <tr>\n",
       "      <th>9</th>\n",
       "      <td>10</td>\n",
       "      <td>0.196382</td>\n",
       "    </tr>\n",
       "    <tr>\n",
       "      <th>10</th>\n",
       "      <td>11</td>\n",
       "      <td>0.198245</td>\n",
       "    </tr>\n",
       "  </tbody>\n",
       "</table>\n",
       "</div>"
      ],
      "text/plain": [
       "    os_family  is_success\n",
       "0           1    0.000000\n",
       "1           2    0.316652\n",
       "2           3    0.231806\n",
       "3           4    0.158915\n",
       "4           5    0.241785\n",
       "5           6    0.409091\n",
       "6           7    0.000000\n",
       "7           8    0.204819\n",
       "8           9    0.263158\n",
       "9          10    0.196382\n",
       "10         11    0.198245"
      ]
     },
     "execution_count": 21,
     "metadata": {},
     "output_type": "execute_result"
    }
   ],
   "source": [
    "df.groupby('os_family').agg({'is_success': 'mean'}).reset_index()"
   ]
  },
  {
   "cell_type": "markdown",
   "metadata": {},
   "source": [
    "Пользователи с разными операционными системами имеют разную конверсию."
   ]
  },
  {
   "cell_type": "markdown",
   "metadata": {},
   "source": [
    "### lt_user"
   ]
  },
  {
   "cell_type": "code",
   "execution_count": 23,
   "metadata": {},
   "outputs": [
    {
     "data": {
      "image/png": "[encoded data removed]",
      "text/plain": [
       "<Figure size 1296x576 with 1 Axes>"
      ]
     },
     "metadata": {
      "needs_background": "light"
     },
     "output_type": "display_data"
    }
   ],
   "source": [
    "fig, ax = plt.subplots(1, 1, figsize=(18,8))\n",
    "sns.countplot(data=df, x='lt_user', hue='is_success', ax=ax)\n",
    "ax.set_title('lt_user counts')\n",
    "plt.show()"
   ]
  },
  {
   "cell_type": "code",
   "execution_count": 24,
   "metadata": {},
   "outputs": [
    {
     "data": {
      "text/html": [
       "<div>\n",
       "<style scoped>\n",
       "    .dataframe tbody tr th:only-of-type {\n",
       "        vertical-align: middle;\n",
       "    }\n",
       "\n",
       "    .dataframe tbody tr th {\n",
       "        vertical-align: top;\n",
       "    }\n",
       "\n",
       "    .dataframe thead th {\n",
       "        text-align: right;\n",
       "    }\n",
       "</style>\n",
       "<table border=\"1\" class=\"dataframe\">\n",
       "  <thead>\n",
       "    <tr style=\"text-align: right;\">\n",
       "      <th></th>\n",
       "      <th>lt_user</th>\n",
       "      <th>is_success</th>\n",
       "    </tr>\n",
       "  </thead>\n",
       "  <tbody>\n",
       "    <tr>\n",
       "      <th>0</th>\n",
       "      <td>0</td>\n",
       "      <td>0.211762</td>\n",
       "    </tr>\n",
       "    <tr>\n",
       "      <th>1</th>\n",
       "      <td>1</td>\n",
       "      <td>0.249721</td>\n",
       "    </tr>\n",
       "    <tr>\n",
       "      <th>2</th>\n",
       "      <td>2</td>\n",
       "      <td>0.259769</td>\n",
       "    </tr>\n",
       "    <tr>\n",
       "      <th>3</th>\n",
       "      <td>3</td>\n",
       "      <td>0.134583</td>\n",
       "    </tr>\n",
       "    <tr>\n",
       "      <th>4</th>\n",
       "      <td>4</td>\n",
       "      <td>0.132440</td>\n",
       "    </tr>\n",
       "  </tbody>\n",
       "</table>\n",
       "</div>"
      ],
      "text/plain": [
       "   lt_user  is_success\n",
       "0        0    0.211762\n",
       "1        1    0.249721\n",
       "2        2    0.259769\n",
       "3        3    0.134583\n",
       "4        4    0.132440"
      ]
     },
     "execution_count": 24,
     "metadata": {},
     "output_type": "execute_result"
    }
   ],
   "source": [
    "df.groupby('lt_user').agg({'is_success': 'mean'}).reset_index()"
   ]
  },
  {
   "cell_type": "markdown",
   "metadata": {},
   "source": [
    "### hours_after_reg_buy"
   ]
  },
  {
   "cell_type": "code",
   "execution_count": 25,
   "metadata": {},
   "outputs": [
    {
     "data": {
      "image/png": "[encoded data removed]",
      "text/plain": [
       "<Figure size 1296x576 with 1 Axes>"
      ]
     },
     "metadata": {
      "needs_background": "light"
     },
     "output_type": "display_data"
    }
   ],
   "source": [
    "fig, ax = plt.subplots(1, 1, figsize=(18,8))\n",
    "sns.countplot(data=df[df['hours_after_reg_buy'] < 30], x='hours_after_reg_buy', hue='is_success', ax=ax)\n",
    "ax.set_title('hours_after_reg_buy counts')\n",
    "plt.show()"
   ]
  },
  {
   "cell_type": "code",
   "execution_count": 26,
   "metadata": {},
   "outputs": [
    {
     "data": {
      "image/png": "[encoded data removed]",
      "text/plain": [
       "<Figure size 1296x576 with 1 Axes>"
      ]
     },
     "metadata": {
      "needs_background": "light"
     },
     "output_type": "display_data"
    }
   ],
   "source": [
    "group = df.groupby('hours_after_reg_buy').agg({'is_success': 'mean'}).reset_index()\n",
    "\n",
    "fig, ax = plt.subplots(1, 1, figsize=(18, 8))\n",
    "ax.plot(group.hours_after_reg_buy, group.is_success)\n",
    "ax.set_title('Percent of subscriptions per hours_after_reg_buy')\n",
    "ax.set_xlabel('hours_after_reg_buy')\n",
    "ax.set_ylabel('Percent of subscriptions')\n",
    "ax.grid()\n",
    "plt.show()"
   ]
  },
  {
   "cell_type": "markdown",
   "metadata": {},
   "source": [
    "### country_code"
   ]
  },
  {
   "cell_type": "code",
   "execution_count": 27,
   "metadata": {},
   "outputs": [
    {
     "data": {
      "text/html": [
       "<div>\n",
       "<style scoped>\n",
       "    .dataframe tbody tr th:only-of-type {\n",
       "        vertical-align: middle;\n",
       "    }\n",
       "\n",
       "    .dataframe tbody tr th {\n",
       "        vertical-align: top;\n",
       "    }\n",
       "\n",
       "    .dataframe thead th {\n",
       "        text-align: right;\n",
       "    }\n",
       "</style>\n",
       "<table border=\"1\" class=\"dataframe\">\n",
       "  <thead>\n",
       "    <tr style=\"text-align: right;\">\n",
       "      <th></th>\n",
       "      <th>country_code</th>\n",
       "      <th>is_success</th>\n",
       "    </tr>\n",
       "  </thead>\n",
       "  <tbody>\n",
       "    <tr>\n",
       "      <th>48</th>\n",
       "      <td>126</td>\n",
       "      <td>0.000000</td>\n",
       "    </tr>\n",
       "    <tr>\n",
       "      <th>46</th>\n",
       "      <td>123</td>\n",
       "      <td>0.000000</td>\n",
       "    </tr>\n",
       "    <tr>\n",
       "      <th>49</th>\n",
       "      <td>127</td>\n",
       "      <td>0.000000</td>\n",
       "    </tr>\n",
       "    <tr>\n",
       "      <th>50</th>\n",
       "      <td>128</td>\n",
       "      <td>0.000000</td>\n",
       "    </tr>\n",
       "    <tr>\n",
       "      <th>51</th>\n",
       "      <td>133</td>\n",
       "      <td>0.000000</td>\n",
       "    </tr>\n",
       "    <tr>\n",
       "      <th>...</th>\n",
       "      <td>...</td>\n",
       "      <td>...</td>\n",
       "    </tr>\n",
       "    <tr>\n",
       "      <th>62</th>\n",
       "      <td>156</td>\n",
       "      <td>0.403846</td>\n",
       "    </tr>\n",
       "    <tr>\n",
       "      <th>55</th>\n",
       "      <td>145</td>\n",
       "      <td>0.432836</td>\n",
       "    </tr>\n",
       "    <tr>\n",
       "      <th>34</th>\n",
       "      <td>85</td>\n",
       "      <td>0.500000</td>\n",
       "    </tr>\n",
       "    <tr>\n",
       "      <th>28</th>\n",
       "      <td>68</td>\n",
       "      <td>0.607143</td>\n",
       "    </tr>\n",
       "    <tr>\n",
       "      <th>68</th>\n",
       "      <td>178</td>\n",
       "      <td>1.000000</td>\n",
       "    </tr>\n",
       "  </tbody>\n",
       "</table>\n",
       "<p>98 rows × 2 columns</p>\n",
       "</div>"
      ],
      "text/plain": [
       "    country_code  is_success\n",
       "48           126    0.000000\n",
       "46           123    0.000000\n",
       "49           127    0.000000\n",
       "50           128    0.000000\n",
       "51           133    0.000000\n",
       "..           ...         ...\n",
       "62           156    0.403846\n",
       "55           145    0.432836\n",
       "34            85    0.500000\n",
       "28            68    0.607143\n",
       "68           178    1.000000\n",
       "\n",
       "[98 rows x 2 columns]"
      ]
     },
     "execution_count": 27,
     "metadata": {},
     "output_type": "execute_result"
    }
   ],
   "source": [
    "group = df.groupby('country_code').agg({'is_success': 'mean'}).reset_index()\n",
    "group = group.sort_values('is_success')\n",
    "group"
   ]
  },
  {
   "cell_type": "markdown",
   "metadata": {},
   "source": [
    "### phone"
   ]
  },
  {
   "cell_type": "code",
   "execution_count": 37,
   "metadata": {},
   "outputs": [
    {
     "name": "stdout",
     "output_type": "stream",
     "text": [
      "Unique phone brands:  4334\n"
     ]
    },
    {
     "data": {
      "text/plain": [
       "1136.0    72044\n",
       "4368.0    25273\n",
       "1876.0    10521\n",
       "3785.0     7417\n",
       "26.0       6863\n",
       "          ...  \n",
       "842.0         1\n",
       "4998.0        1\n",
       "5285.0        1\n",
       "2140.0        1\n",
       "5297.0        1\n",
       "Name: phone, Length: 4334, dtype: int64"
      ]
     },
     "execution_count": 37,
     "metadata": {},
     "output_type": "execute_result"
    }
   ],
   "source": [
    "print('Unique phone brands: ', df.phone.nunique())\n",
    "df.phone.value_counts()"
   ]
  },
  {
   "cell_type": "markdown",
   "metadata": {},
   "source": [
    "### cpa"
   ]
  },
  {
   "cell_type": "code",
   "execution_count": 34,
   "metadata": {},
   "outputs": [
    {
     "data": {
      "text/plain": [
       "0.000000    225406\n",
       "1.700000     11809\n",
       "1.500000      8449\n",
       "0.370000      6566\n",
       "1.000000      6381\n",
       "             ...  \n",
       "1.273820         1\n",
       "0.793750         1\n",
       "1.621295         1\n",
       "0.560563         1\n",
       "1.824269         1\n",
       "Name: cpa, Length: 19850, dtype: int64"
      ]
     },
     "execution_count": 34,
     "metadata": {},
     "output_type": "execute_result"
    }
   ],
   "source": [
    "df.cpa.value_counts()"
   ]
  },
  {
   "cell_type": "code",
   "execution_count": 35,
   "metadata": {},
   "outputs": [
    {
     "name": "stdout",
     "output_type": "stream",
     "text": [
      "Unique phone brands:  19850\n"
     ]
    }
   ],
   "source": [
    "print('Unique phone brands: ', df.cpa.nunique())"
   ]
  },
  {
   "cell_type": "markdown",
   "metadata": {},
   "source": [
    "### retry_number"
   ]
  },
  {
   "cell_type": "code",
   "execution_count": 39,
   "metadata": {},
   "outputs": [
    {
     "data": {
      "image/png": "[encoded data removed]",
      "text/plain": [
       "<Figure size 1296x576 with 1 Axes>"
      ]
     },
     "metadata": {
      "needs_background": "light"
     },
     "output_type": "display_data"
    }
   ],
   "source": [
    "fig, ax = plt.subplots(1, 1, figsize=(18,8))\n",
    "sns.countplot(data=df, x='retry_number', hue='is_success', ax=ax)\n",
    "ax.set_title('retry_number counts')\n",
    "plt.show()"
   ]
  },
  {
   "cell_type": "code",
   "execution_count": 40,
   "metadata": {},
   "outputs": [
    {
     "data": {
      "text/html": [
       "<div>\n",
       "<style scoped>\n",
       "    .dataframe tbody tr th:only-of-type {\n",
       "        vertical-align: middle;\n",
       "    }\n",
       "\n",
       "    .dataframe tbody tr th {\n",
       "        vertical-align: top;\n",
       "    }\n",
       "\n",
       "    .dataframe thead th {\n",
       "        text-align: right;\n",
       "    }\n",
       "</style>\n",
       "<table border=\"1\" class=\"dataframe\">\n",
       "  <thead>\n",
       "    <tr style=\"text-align: right;\">\n",
       "      <th></th>\n",
       "      <th>retry_number</th>\n",
       "      <th>is_success</th>\n",
       "    </tr>\n",
       "  </thead>\n",
       "  <tbody>\n",
       "    <tr>\n",
       "      <th>3</th>\n",
       "      <td>3</td>\n",
       "      <td>0.068036</td>\n",
       "    </tr>\n",
       "    <tr>\n",
       "      <th>1</th>\n",
       "      <td>1</td>\n",
       "      <td>0.096146</td>\n",
       "    </tr>\n",
       "    <tr>\n",
       "      <th>2</th>\n",
       "      <td>2</td>\n",
       "      <td>0.118357</td>\n",
       "    </tr>\n",
       "    <tr>\n",
       "      <th>0</th>\n",
       "      <td>0</td>\n",
       "      <td>0.247502</td>\n",
       "    </tr>\n",
       "  </tbody>\n",
       "</table>\n",
       "</div>"
      ],
      "text/plain": [
       "   retry_number  is_success\n",
       "3             3    0.068036\n",
       "1             1    0.096146\n",
       "2             2    0.118357\n",
       "0             0    0.247502"
      ]
     },
     "execution_count": 40,
     "metadata": {},
     "output_type": "execute_result"
    }
   ],
   "source": [
    "group = df.groupby('retry_number').agg({'is_success': 'mean'}).reset_index()\n",
    "group = group.sort_values('is_success')\n",
    "group"
   ]
  },
  {
   "cell_type": "markdown",
   "metadata": {},
   "source": [
    "### period"
   ]
  },
  {
   "cell_type": "code",
   "execution_count": 42,
   "metadata": {},
   "outputs": [
    {
     "data": {
      "image/png": "[encoded data removed]",
      "text/plain": [
       "<Figure size 1296x576 with 1 Axes>"
      ]
     },
     "metadata": {
      "needs_background": "light"
     },
     "output_type": "display_data"
    }
   ],
   "source": [
    "fig, ax = plt.subplots(1, 1, figsize=(18,8))\n",
    "sns.countplot(data=df, x='period', hue='is_success', ax=ax)\n",
    "ax.set_title('period counts')\n",
    "plt.show()"
   ]
  },
  {
   "cell_type": "code",
   "execution_count": 43,
   "metadata": {},
   "outputs": [
    {
     "data": {
      "text/html": [
       "<div>\n",
       "<style scoped>\n",
       "    .dataframe tbody tr th:only-of-type {\n",
       "        vertical-align: middle;\n",
       "    }\n",
       "\n",
       "    .dataframe tbody tr th {\n",
       "        vertical-align: top;\n",
       "    }\n",
       "\n",
       "    .dataframe thead th {\n",
       "        text-align: right;\n",
       "    }\n",
       "</style>\n",
       "<table border=\"1\" class=\"dataframe\">\n",
       "  <thead>\n",
       "    <tr style=\"text-align: right;\">\n",
       "      <th></th>\n",
       "      <th>period</th>\n",
       "      <th>is_success</th>\n",
       "    </tr>\n",
       "  </thead>\n",
       "  <tbody>\n",
       "    <tr>\n",
       "      <th>2</th>\n",
       "      <td>15</td>\n",
       "      <td>0.105865</td>\n",
       "    </tr>\n",
       "    <tr>\n",
       "      <th>4</th>\n",
       "      <td>31</td>\n",
       "      <td>0.117777</td>\n",
       "    </tr>\n",
       "    <tr>\n",
       "      <th>1</th>\n",
       "      <td>8</td>\n",
       "      <td>0.142761</td>\n",
       "    </tr>\n",
       "    <tr>\n",
       "      <th>3</th>\n",
       "      <td>30</td>\n",
       "      <td>0.240682</td>\n",
       "    </tr>\n",
       "    <tr>\n",
       "      <th>0</th>\n",
       "      <td>7</td>\n",
       "      <td>0.493151</td>\n",
       "    </tr>\n",
       "  </tbody>\n",
       "</table>\n",
       "</div>"
      ],
      "text/plain": [
       "   period  is_success\n",
       "2      15    0.105865\n",
       "4      31    0.117777\n",
       "1       8    0.142761\n",
       "3      30    0.240682\n",
       "0       7    0.493151"
      ]
     },
     "execution_count": 43,
     "metadata": {},
     "output_type": "execute_result"
    }
   ],
   "source": [
    "group = df.groupby('period').agg({'is_success': 'mean'}).reset_index()\n",
    "group = group.sort_values('is_success')\n",
    "group"
   ]
  },
  {
   "cell_type": "markdown",
   "metadata": {},
   "source": [
    "### gross"
   ]
  },
  {
   "cell_type": "code",
   "execution_count": 45,
   "metadata": {},
   "outputs": [
    {
     "name": "stdout",
     "output_type": "stream",
     "text": [
      "4048\n"
     ]
    },
    {
     "data": {
      "text/plain": [
       "33.700000    17918\n",
       "48.160000    11893\n",
       "20.104082     4860\n",
       "20.401856     4354\n",
       "16.850000     4063\n",
       "             ...  \n",
       "16.516199        1\n",
       "16.572193        1\n",
       "25.515564        1\n",
       "7.253235         1\n",
       "15.538674        1\n",
       "Name: gross, Length: 4048, dtype: int64"
      ]
     },
     "execution_count": 45,
     "metadata": {},
     "output_type": "execute_result"
    }
   ],
   "source": [
    "print(df.gross.nunique())\n",
    "\n",
    "df.gross.value_counts()"
   ]
  },
  {
   "cell_type": "code",
   "execution_count": 46,
   "metadata": {},
   "outputs": [
    {
     "data": {
      "image/png": "[encoded data removed]",
      "text/plain": [
       "<Figure size 1296x576 with 1 Axes>"
      ]
     },
     "metadata": {
      "needs_background": "light"
     },
     "output_type": "display_data"
    }
   ],
   "source": [
    "fig, ax = plt.subplots(1, 1, figsize=(18,8))\n",
    "sns.histplot(data=df, x='gross', hue='is_success', ax=ax)\n",
    "ax.set_title('gross')\n",
    "plt.show()"
   ]
  },
  {
   "cell_type": "markdown",
   "metadata": {},
   "source": [
    "### currency_id"
   ]
  },
  {
   "cell_type": "code",
   "execution_count": 48,
   "metadata": {},
   "outputs": [
    {
     "data": {
      "image/png": "[encoded data removed]",
      "text/plain": [
       "<Figure size 1296x576 with 1 Axes>"
      ]
     },
     "metadata": {
      "needs_background": "light"
     },
     "output_type": "display_data"
    }
   ],
   "source": [
    "fig, ax = plt.subplots(1, 1, figsize=(18,8))\n",
    "sns.countplot(data=df, x='currency_id', hue='is_success', ax=ax)\n",
    "ax.set_title('currency_id counts')\n",
    "plt.show()"
   ]
  },
  {
   "cell_type": "code",
   "execution_count": 49,
   "metadata": {},
   "outputs": [
    {
     "data": {
      "text/html": [
       "<div>\n",
       "<style scoped>\n",
       "    .dataframe tbody tr th:only-of-type {\n",
       "        vertical-align: middle;\n",
       "    }\n",
       "\n",
       "    .dataframe tbody tr th {\n",
       "        vertical-align: top;\n",
       "    }\n",
       "\n",
       "    .dataframe thead th {\n",
       "        text-align: right;\n",
       "    }\n",
       "</style>\n",
       "<table border=\"1\" class=\"dataframe\">\n",
       "  <thead>\n",
       "    <tr style=\"text-align: right;\">\n",
       "      <th></th>\n",
       "      <th>currency_id</th>\n",
       "      <th>is_success</th>\n",
       "    </tr>\n",
       "  </thead>\n",
       "  <tbody>\n",
       "    <tr>\n",
       "      <th>9</th>\n",
       "      <td>16</td>\n",
       "      <td>0.027027</td>\n",
       "    </tr>\n",
       "    <tr>\n",
       "      <th>4</th>\n",
       "      <td>6</td>\n",
       "      <td>0.089744</td>\n",
       "    </tr>\n",
       "    <tr>\n",
       "      <th>5</th>\n",
       "      <td>7</td>\n",
       "      <td>0.143017</td>\n",
       "    </tr>\n",
       "    <tr>\n",
       "      <th>7</th>\n",
       "      <td>11</td>\n",
       "      <td>0.155674</td>\n",
       "    </tr>\n",
       "    <tr>\n",
       "      <th>1</th>\n",
       "      <td>2</td>\n",
       "      <td>0.194010</td>\n",
       "    </tr>\n",
       "    <tr>\n",
       "      <th>3</th>\n",
       "      <td>4</td>\n",
       "      <td>0.215996</td>\n",
       "    </tr>\n",
       "    <tr>\n",
       "      <th>0</th>\n",
       "      <td>1</td>\n",
       "      <td>0.217709</td>\n",
       "    </tr>\n",
       "    <tr>\n",
       "      <th>8</th>\n",
       "      <td>15</td>\n",
       "      <td>0.218274</td>\n",
       "    </tr>\n",
       "    <tr>\n",
       "      <th>14</th>\n",
       "      <td>24</td>\n",
       "      <td>0.233696</td>\n",
       "    </tr>\n",
       "    <tr>\n",
       "      <th>11</th>\n",
       "      <td>19</td>\n",
       "      <td>0.236925</td>\n",
       "    </tr>\n",
       "    <tr>\n",
       "      <th>2</th>\n",
       "      <td>3</td>\n",
       "      <td>0.249833</td>\n",
       "    </tr>\n",
       "    <tr>\n",
       "      <th>6</th>\n",
       "      <td>8</td>\n",
       "      <td>0.255365</td>\n",
       "    </tr>\n",
       "    <tr>\n",
       "      <th>13</th>\n",
       "      <td>23</td>\n",
       "      <td>0.278203</td>\n",
       "    </tr>\n",
       "    <tr>\n",
       "      <th>10</th>\n",
       "      <td>18</td>\n",
       "      <td>0.285337</td>\n",
       "    </tr>\n",
       "    <tr>\n",
       "      <th>12</th>\n",
       "      <td>22</td>\n",
       "      <td>0.338083</td>\n",
       "    </tr>\n",
       "  </tbody>\n",
       "</table>\n",
       "</div>"
      ],
      "text/plain": [
       "    currency_id  is_success\n",
       "9            16    0.027027\n",
       "4             6    0.089744\n",
       "5             7    0.143017\n",
       "7            11    0.155674\n",
       "1             2    0.194010\n",
       "3             4    0.215996\n",
       "0             1    0.217709\n",
       "8            15    0.218274\n",
       "14           24    0.233696\n",
       "11           19    0.236925\n",
       "2             3    0.249833\n",
       "6             8    0.255365\n",
       "13           23    0.278203\n",
       "10           18    0.285337\n",
       "12           22    0.338083"
      ]
     },
     "execution_count": 49,
     "metadata": {},
     "output_type": "execute_result"
    }
   ],
   "source": [
    "group = df.groupby('currency_id').agg({'is_success': 'mean'}).reset_index()\n",
    "group = group.sort_values('is_success')\n",
    "group"
   ]
  },
  {
   "cell_type": "markdown",
   "metadata": {},
   "source": [
    "### discount"
   ]
  },
  {
   "cell_type": "code",
   "execution_count": 51,
   "metadata": {},
   "outputs": [
    {
     "data": {
      "image/png": "[encoded data removed]",
      "text/plain": [
       "<Figure size 1296x576 with 1 Axes>"
      ]
     },
     "metadata": {
      "needs_background": "light"
     },
     "output_type": "display_data"
    }
   ],
   "source": [
    "fig, ax = plt.subplots(1, 1, figsize=(18,8))\n",
    "sns.countplot(data=df, x='discount', hue='is_success', ax=ax)\n",
    "ax.set_title('discount counts')\n",
    "plt.show()"
   ]
  },
  {
   "cell_type": "code",
   "execution_count": 52,
   "metadata": {},
   "outputs": [
    {
     "data": {
      "text/html": [
       "<div>\n",
       "<style scoped>\n",
       "    .dataframe tbody tr th:only-of-type {\n",
       "        vertical-align: middle;\n",
       "    }\n",
       "\n",
       "    .dataframe tbody tr th {\n",
       "        vertical-align: top;\n",
       "    }\n",
       "\n",
       "    .dataframe thead th {\n",
       "        text-align: right;\n",
       "    }\n",
       "</style>\n",
       "<table border=\"1\" class=\"dataframe\">\n",
       "  <thead>\n",
       "    <tr style=\"text-align: right;\">\n",
       "      <th></th>\n",
       "      <th>discount</th>\n",
       "      <th>is_success</th>\n",
       "    </tr>\n",
       "  </thead>\n",
       "  <tbody>\n",
       "    <tr>\n",
       "      <th>1</th>\n",
       "      <td>50</td>\n",
       "      <td>0.105865</td>\n",
       "    </tr>\n",
       "    <tr>\n",
       "      <th>2</th>\n",
       "      <td>75</td>\n",
       "      <td>0.142761</td>\n",
       "    </tr>\n",
       "    <tr>\n",
       "      <th>0</th>\n",
       "      <td>0</td>\n",
       "      <td>0.235113</td>\n",
       "    </tr>\n",
       "  </tbody>\n",
       "</table>\n",
       "</div>"
      ],
      "text/plain": [
       "   discount  is_success\n",
       "1        50    0.105865\n",
       "2        75    0.142761\n",
       "0         0    0.235113"
      ]
     },
     "execution_count": 52,
     "metadata": {},
     "output_type": "execute_result"
    }
   ],
   "source": [
    "group = df.groupby('discount').agg({'is_success': 'mean'}).reset_index()\n",
    "group = group.sort_values('is_success')\n",
    "group"
   ]
  },
  {
   "cell_type": "markdown",
   "metadata": {},
   "source": [
    "### psp"
   ]
  },
  {
   "cell_type": "code",
   "execution_count": 54,
   "metadata": {},
   "outputs": [
    {
     "data": {
      "image/png": "[encoded data removed]",
      "text/plain": [
       "<Figure size 1296x576 with 1 Axes>"
      ]
     },
     "metadata": {
      "needs_background": "light"
     },
     "output_type": "display_data"
    }
   ],
   "source": [
    "fig, ax = plt.subplots(1, 1, figsize=(18,8))\n",
    "sns.countplot(data=df, x='psp', hue='is_success', ax=ax)\n",
    "ax.set_title('psp counts')\n",
    "plt.show()"
   ]
  },
  {
   "cell_type": "code",
   "execution_count": 55,
   "metadata": {},
   "outputs": [
    {
     "data": {
      "text/html": [
       "<div>\n",
       "<style scoped>\n",
       "    .dataframe tbody tr th:only-of-type {\n",
       "        vertical-align: middle;\n",
       "    }\n",
       "\n",
       "    .dataframe tbody tr th {\n",
       "        vertical-align: top;\n",
       "    }\n",
       "\n",
       "    .dataframe thead th {\n",
       "        text-align: right;\n",
       "    }\n",
       "</style>\n",
       "<table border=\"1\" class=\"dataframe\">\n",
       "  <thead>\n",
       "    <tr style=\"text-align: right;\">\n",
       "      <th></th>\n",
       "      <th>psp</th>\n",
       "      <th>is_success</th>\n",
       "    </tr>\n",
       "  </thead>\n",
       "  <tbody>\n",
       "    <tr>\n",
       "      <th>2</th>\n",
       "      <td>5</td>\n",
       "      <td>0.071179</td>\n",
       "    </tr>\n",
       "    <tr>\n",
       "      <th>7</th>\n",
       "      <td>11</td>\n",
       "      <td>0.086022</td>\n",
       "    </tr>\n",
       "    <tr>\n",
       "      <th>6</th>\n",
       "      <td>10</td>\n",
       "      <td>0.195180</td>\n",
       "    </tr>\n",
       "    <tr>\n",
       "      <th>4</th>\n",
       "      <td>7</td>\n",
       "      <td>0.199190</td>\n",
       "    </tr>\n",
       "    <tr>\n",
       "      <th>3</th>\n",
       "      <td>6</td>\n",
       "      <td>0.209359</td>\n",
       "    </tr>\n",
       "    <tr>\n",
       "      <th>1</th>\n",
       "      <td>4</td>\n",
       "      <td>0.238395</td>\n",
       "    </tr>\n",
       "    <tr>\n",
       "      <th>0</th>\n",
       "      <td>1</td>\n",
       "      <td>0.247651</td>\n",
       "    </tr>\n",
       "    <tr>\n",
       "      <th>5</th>\n",
       "      <td>9</td>\n",
       "      <td>0.251206</td>\n",
       "    </tr>\n",
       "  </tbody>\n",
       "</table>\n",
       "</div>"
      ],
      "text/plain": [
       "   psp  is_success\n",
       "2    5    0.071179\n",
       "7   11    0.086022\n",
       "6   10    0.195180\n",
       "4    7    0.199190\n",
       "3    6    0.209359\n",
       "1    4    0.238395\n",
       "0    1    0.247651\n",
       "5    9    0.251206"
      ]
     },
     "execution_count": 55,
     "metadata": {},
     "output_type": "execute_result"
    }
   ],
   "source": [
    "group = df.groupby('psp').agg({'is_success': 'mean'}).reset_index()\n",
    "group = group.sort_values('is_success')\n",
    "group"
   ]
  },
  {
   "cell_type": "markdown",
   "metadata": {},
   "source": [
    "### last_response_code "
   ]
  },
  {
   "cell_type": "code",
   "execution_count": 57,
   "metadata": {},
   "outputs": [
    {
     "data": {
      "text/plain": [
       "11    245164\n",
       "38    218610\n",
       "36     14916\n",
       "1       6207\n",
       "31      5358\n",
       "33      5257\n",
       "15      3832\n",
       "40      3672\n",
       "29      2679\n",
       "8       2630\n",
       "4       1691\n",
       "7       1412\n",
       "35      1350\n",
       "30       629\n",
       "19       572\n",
       "24       508\n",
       "10       259\n",
       "25       191\n",
       "16       162\n",
       "27       152\n",
       "32       138\n",
       "22       133\n",
       "23       116\n",
       "12        82\n",
       "14        75\n",
       "21        73\n",
       "9         54\n",
       "37        49\n",
       "6         49\n",
       "18        45\n",
       "2         40\n",
       "39        38\n",
       "28        18\n",
       "26         7\n",
       "13         6\n",
       "41         4\n",
       "42         2\n",
       "Name: last_response_code, dtype: int64"
      ]
     },
     "execution_count": 57,
     "metadata": {},
     "output_type": "execute_result"
    }
   ],
   "source": [
    "df.last_response_code.nunique()\n",
    "df.last_response_code.value_counts()"
   ]
  },
  {
   "cell_type": "code",
   "execution_count": 58,
   "metadata": {},
   "outputs": [
    {
     "data": {
      "image/png": "[encoded data removed]",
      "text/plain": [
       "<Figure size 1296x576 with 1 Axes>"
      ]
     },
     "metadata": {
      "needs_background": "light"
     },
     "output_type": "display_data"
    }
   ],
   "source": [
    "fig, ax = plt.subplots(1, 1, figsize=(18,8))\n",
    "sns.countplot(data=df, x='last_response_code', hue='is_success', ax=ax)\n",
    "ax.set_title('psp counts')\n",
    "plt.show()"
   ]
  },
  {
   "cell_type": "code",
   "execution_count": 59,
   "metadata": {},
   "outputs": [
    {
     "data": {
      "text/html": [
       "<div>\n",
       "<style scoped>\n",
       "    .dataframe tbody tr th:only-of-type {\n",
       "        vertical-align: middle;\n",
       "    }\n",
       "\n",
       "    .dataframe tbody tr th {\n",
       "        vertical-align: top;\n",
       "    }\n",
       "\n",
       "    .dataframe thead th {\n",
       "        text-align: right;\n",
       "    }\n",
       "</style>\n",
       "<table border=\"1\" class=\"dataframe\">\n",
       "  <thead>\n",
       "    <tr style=\"text-align: right;\">\n",
       "      <th></th>\n",
       "      <th>last_response_code</th>\n",
       "      <th>is_success</th>\n",
       "    </tr>\n",
       "  </thead>\n",
       "  <tbody>\n",
       "    <tr>\n",
       "      <th>36</th>\n",
       "      <td>42</td>\n",
       "      <td>0.000000</td>\n",
       "    </tr>\n",
       "    <tr>\n",
       "      <th>21</th>\n",
       "      <td>26</td>\n",
       "      <td>0.000000</td>\n",
       "    </tr>\n",
       "    <tr>\n",
       "      <th>35</th>\n",
       "      <td>41</td>\n",
       "      <td>0.000000</td>\n",
       "    </tr>\n",
       "    <tr>\n",
       "      <th>23</th>\n",
       "      <td>28</td>\n",
       "      <td>0.055556</td>\n",
       "    </tr>\n",
       "    <tr>\n",
       "      <th>0</th>\n",
       "      <td>1</td>\n",
       "      <td>0.079265</td>\n",
       "    </tr>\n",
       "    <tr>\n",
       "      <th>13</th>\n",
       "      <td>16</td>\n",
       "      <td>0.080247</td>\n",
       "    </tr>\n",
       "    <tr>\n",
       "      <th>7</th>\n",
       "      <td>10</td>\n",
       "      <td>0.081081</td>\n",
       "    </tr>\n",
       "    <tr>\n",
       "      <th>30</th>\n",
       "      <td>36</td>\n",
       "      <td>0.086149</td>\n",
       "    </tr>\n",
       "    <tr>\n",
       "      <th>16</th>\n",
       "      <td>21</td>\n",
       "      <td>0.095890</td>\n",
       "    </tr>\n",
       "    <tr>\n",
       "      <th>12</th>\n",
       "      <td>15</td>\n",
       "      <td>0.097860</td>\n",
       "    </tr>\n",
       "    <tr>\n",
       "      <th>8</th>\n",
       "      <td>11</td>\n",
       "      <td>0.102360</td>\n",
       "    </tr>\n",
       "    <tr>\n",
       "      <th>15</th>\n",
       "      <td>19</td>\n",
       "      <td>0.115385</td>\n",
       "    </tr>\n",
       "    <tr>\n",
       "      <th>29</th>\n",
       "      <td>35</td>\n",
       "      <td>0.117778</td>\n",
       "    </tr>\n",
       "    <tr>\n",
       "      <th>4</th>\n",
       "      <td>7</td>\n",
       "      <td>0.121813</td>\n",
       "    </tr>\n",
       "    <tr>\n",
       "      <th>2</th>\n",
       "      <td>4</td>\n",
       "      <td>0.124187</td>\n",
       "    </tr>\n",
       "    <tr>\n",
       "      <th>6</th>\n",
       "      <td>9</td>\n",
       "      <td>0.148148</td>\n",
       "    </tr>\n",
       "    <tr>\n",
       "      <th>24</th>\n",
       "      <td>29</td>\n",
       "      <td>0.190370</td>\n",
       "    </tr>\n",
       "    <tr>\n",
       "      <th>1</th>\n",
       "      <td>2</td>\n",
       "      <td>0.200000</td>\n",
       "    </tr>\n",
       "    <tr>\n",
       "      <th>11</th>\n",
       "      <td>14</td>\n",
       "      <td>0.200000</td>\n",
       "    </tr>\n",
       "    <tr>\n",
       "      <th>14</th>\n",
       "      <td>18</td>\n",
       "      <td>0.200000</td>\n",
       "    </tr>\n",
       "    <tr>\n",
       "      <th>26</th>\n",
       "      <td>31</td>\n",
       "      <td>0.214072</td>\n",
       "    </tr>\n",
       "    <tr>\n",
       "      <th>18</th>\n",
       "      <td>23</td>\n",
       "      <td>0.224138</td>\n",
       "    </tr>\n",
       "    <tr>\n",
       "      <th>9</th>\n",
       "      <td>12</td>\n",
       "      <td>0.243902</td>\n",
       "    </tr>\n",
       "    <tr>\n",
       "      <th>3</th>\n",
       "      <td>6</td>\n",
       "      <td>0.244898</td>\n",
       "    </tr>\n",
       "    <tr>\n",
       "      <th>25</th>\n",
       "      <td>30</td>\n",
       "      <td>0.262321</td>\n",
       "    </tr>\n",
       "    <tr>\n",
       "      <th>31</th>\n",
       "      <td>37</td>\n",
       "      <td>0.265306</td>\n",
       "    </tr>\n",
       "    <tr>\n",
       "      <th>27</th>\n",
       "      <td>32</td>\n",
       "      <td>0.268116</td>\n",
       "    </tr>\n",
       "    <tr>\n",
       "      <th>5</th>\n",
       "      <td>8</td>\n",
       "      <td>0.280228</td>\n",
       "    </tr>\n",
       "    <tr>\n",
       "      <th>20</th>\n",
       "      <td>25</td>\n",
       "      <td>0.282723</td>\n",
       "    </tr>\n",
       "    <tr>\n",
       "      <th>22</th>\n",
       "      <td>27</td>\n",
       "      <td>0.289474</td>\n",
       "    </tr>\n",
       "    <tr>\n",
       "      <th>17</th>\n",
       "      <td>22</td>\n",
       "      <td>0.308271</td>\n",
       "    </tr>\n",
       "    <tr>\n",
       "      <th>28</th>\n",
       "      <td>33</td>\n",
       "      <td>0.320905</td>\n",
       "    </tr>\n",
       "    <tr>\n",
       "      <th>32</th>\n",
       "      <td>38</td>\n",
       "      <td>0.329861</td>\n",
       "    </tr>\n",
       "    <tr>\n",
       "      <th>10</th>\n",
       "      <td>13</td>\n",
       "      <td>0.333333</td>\n",
       "    </tr>\n",
       "    <tr>\n",
       "      <th>19</th>\n",
       "      <td>24</td>\n",
       "      <td>0.338583</td>\n",
       "    </tr>\n",
       "    <tr>\n",
       "      <th>34</th>\n",
       "      <td>40</td>\n",
       "      <td>0.339325</td>\n",
       "    </tr>\n",
       "    <tr>\n",
       "      <th>33</th>\n",
       "      <td>39</td>\n",
       "      <td>0.421053</td>\n",
       "    </tr>\n",
       "  </tbody>\n",
       "</table>\n",
       "</div>"
      ],
      "text/plain": [
       "    last_response_code  is_success\n",
       "36                  42    0.000000\n",
       "21                  26    0.000000\n",
       "35                  41    0.000000\n",
       "23                  28    0.055556\n",
       "0                    1    0.079265\n",
       "13                  16    0.080247\n",
       "7                   10    0.081081\n",
       "30                  36    0.086149\n",
       "16                  21    0.095890\n",
       "12                  15    0.097860\n",
       "8                   11    0.102360\n",
       "15                  19    0.115385\n",
       "29                  35    0.117778\n",
       "4                    7    0.121813\n",
       "2                    4    0.124187\n",
       "6                    9    0.148148\n",
       "24                  29    0.190370\n",
       "1                    2    0.200000\n",
       "11                  14    0.200000\n",
       "14                  18    0.200000\n",
       "26                  31    0.214072\n",
       "18                  23    0.224138\n",
       "9                   12    0.243902\n",
       "3                    6    0.244898\n",
       "25                  30    0.262321\n",
       "31                  37    0.265306\n",
       "27                  32    0.268116\n",
       "5                    8    0.280228\n",
       "20                  25    0.282723\n",
       "22                  27    0.289474\n",
       "17                  22    0.308271\n",
       "28                  33    0.320905\n",
       "32                  38    0.329861\n",
       "10                  13    0.333333\n",
       "19                  24    0.338583\n",
       "34                  40    0.339325\n",
       "33                  39    0.421053"
      ]
     },
     "execution_count": 59,
     "metadata": {},
     "output_type": "execute_result"
    }
   ],
   "source": [
    "group = df.groupby('last_response_code').agg({'is_success': 'mean'}).reset_index()\n",
    "group = group.sort_values('is_success')\n",
    "group"
   ]
  },
  {
   "cell_type": "markdown",
   "metadata": {},
   "source": [
    "### bank"
   ]
  },
  {
   "cell_type": "code",
   "execution_count": 61,
   "metadata": {},
   "outputs": [
    {
     "data": {
      "text/plain": [
       "76.0      253875\n",
       "108.0      33055\n",
       "121.0      16643\n",
       "812.0      13323\n",
       "1020.0     12032\n",
       "           ...  \n",
       "1265.0         1\n",
       "113.0          1\n",
       "1022.0         1\n",
       "1313.0         1\n",
       "289.0          1\n",
       "Name: bank, Length: 1247, dtype: int64"
      ]
     },
     "execution_count": 61,
     "metadata": {},
     "output_type": "execute_result"
    }
   ],
   "source": [
    "df.bank.nunique()\n",
    "df.bank.value_counts()"
   ]
  },
  {
   "cell_type": "markdown",
   "metadata": {},
   "source": [
    "### was_3ds"
   ]
  },
  {
   "cell_type": "code",
   "execution_count": 63,
   "metadata": {},
   "outputs": [
    {
     "data": {
      "image/png": "[encoded data removed]",
      "text/plain": [
       "<Figure size 1296x576 with 1 Axes>"
      ]
     },
     "metadata": {
      "needs_background": "light"
     },
     "output_type": "display_data"
    }
   ],
   "source": [
    "fig, ax = plt.subplots(1, 1, figsize=(18,8))\n",
    "sns.countplot(data=df, x='was_3ds', hue='is_success', ax=ax)\n",
    "ax.set_title('was_3ds counts')\n",
    "plt.show()"
   ]
  },
  {
   "cell_type": "code",
   "execution_count": 62,
   "metadata": {},
   "outputs": [
    {
     "data": {
      "text/html": [
       "<div>\n",
       "<style scoped>\n",
       "    .dataframe tbody tr th:only-of-type {\n",
       "        vertical-align: middle;\n",
       "    }\n",
       "\n",
       "    .dataframe tbody tr th {\n",
       "        vertical-align: top;\n",
       "    }\n",
       "\n",
       "    .dataframe thead th {\n",
       "        text-align: right;\n",
       "    }\n",
       "</style>\n",
       "<table border=\"1\" class=\"dataframe\">\n",
       "  <thead>\n",
       "    <tr style=\"text-align: right;\">\n",
       "      <th></th>\n",
       "      <th>was_3ds</th>\n",
       "      <th>is_success</th>\n",
       "    </tr>\n",
       "  </thead>\n",
       "  <tbody>\n",
       "    <tr>\n",
       "      <th>1</th>\n",
       "      <td>1</td>\n",
       "      <td>0.127365</td>\n",
       "    </tr>\n",
       "    <tr>\n",
       "      <th>0</th>\n",
       "      <td>0</td>\n",
       "      <td>0.206979</td>\n",
       "    </tr>\n",
       "  </tbody>\n",
       "</table>\n",
       "</div>"
      ],
      "text/plain": [
       "   was_3ds  is_success\n",
       "1        1    0.127365\n",
       "0        0    0.206979"
      ]
     },
     "execution_count": 62,
     "metadata": {},
     "output_type": "execute_result"
    }
   ],
   "source": [
    "group = df.groupby('was_3ds').agg({'is_success': 'mean'}).reset_index()\n",
    "group = group.sort_values('is_success')\n",
    "group"
   ]
  },
  {
   "cell_type": "markdown",
   "metadata": {},
   "source": [
    "### card_type"
   ]
  },
  {
   "cell_type": "code",
   "execution_count": 64,
   "metadata": {},
   "outputs": [
    {
     "data": {
      "text/plain": [
       "4"
      ]
     },
     "execution_count": 64,
     "metadata": {},
     "output_type": "execute_result"
    }
   ],
   "source": [
    "df.card_type.nunique()"
   ]
  },
  {
   "cell_type": "code",
   "execution_count": 66,
   "metadata": {},
   "outputs": [
    {
     "data": {
      "image/png": "[encoded data removed]",
      "text/plain": [
       "<Figure size 1296x576 with 1 Axes>"
      ]
     },
     "metadata": {
      "needs_background": "light"
     },
     "output_type": "display_data"
    }
   ],
   "source": [
    "fig, ax = plt.subplots(1, 1, figsize=(18,8))\n",
    "sns.countplot(data=df, x='card_type', hue='is_success', ax=ax)\n",
    "ax.set_title('card_type counts')\n",
    "plt.show()"
   ]
  },
  {
   "cell_type": "code",
   "execution_count": 65,
   "metadata": {},
   "outputs": [
    {
     "data": {
      "text/html": [
       "<div>\n",
       "<style scoped>\n",
       "    .dataframe tbody tr th:only-of-type {\n",
       "        vertical-align: middle;\n",
       "    }\n",
       "\n",
       "    .dataframe tbody tr th {\n",
       "        vertical-align: top;\n",
       "    }\n",
       "\n",
       "    .dataframe thead th {\n",
       "        text-align: right;\n",
       "    }\n",
       "</style>\n",
       "<table border=\"1\" class=\"dataframe\">\n",
       "  <thead>\n",
       "    <tr style=\"text-align: right;\">\n",
       "      <th></th>\n",
       "      <th>card_type</th>\n",
       "      <th>is_success</th>\n",
       "    </tr>\n",
       "  </thead>\n",
       "  <tbody>\n",
       "    <tr>\n",
       "      <th>2</th>\n",
       "      <td>4.0</td>\n",
       "      <td>0.091445</td>\n",
       "    </tr>\n",
       "    <tr>\n",
       "      <th>0</th>\n",
       "      <td>1.0</td>\n",
       "      <td>0.123293</td>\n",
       "    </tr>\n",
       "    <tr>\n",
       "      <th>1</th>\n",
       "      <td>2.0</td>\n",
       "      <td>0.201012</td>\n",
       "    </tr>\n",
       "    <tr>\n",
       "      <th>3</th>\n",
       "      <td>5.0</td>\n",
       "      <td>0.237171</td>\n",
       "    </tr>\n",
       "  </tbody>\n",
       "</table>\n",
       "</div>"
      ],
      "text/plain": [
       "   card_type  is_success\n",
       "2        4.0    0.091445\n",
       "0        1.0    0.123293\n",
       "1        2.0    0.201012\n",
       "3        5.0    0.237171"
      ]
     },
     "execution_count": 65,
     "metadata": {},
     "output_type": "execute_result"
    }
   ],
   "source": [
    "group = df.groupby('card_type').agg({'is_success': 'mean'}).reset_index()\n",
    "group = group.sort_values('is_success')\n",
    "group"
   ]
  },
  {
   "cell_type": "markdown",
   "metadata": {},
   "source": [
    "### card_country_code"
   ]
  },
  {
   "cell_type": "code",
   "execution_count": 68,
   "metadata": {},
   "outputs": [
    {
     "data": {
      "text/plain": [
       "1      357798\n",
       "2       59682\n",
       "161     16094\n",
       "3       13450\n",
       "203     11950\n",
       "        ...  \n",
       "42          2\n",
       "131         2\n",
       "22          2\n",
       "280         2\n",
       "159         1\n",
       "Name: card_country_code, Length: 114, dtype: int64"
      ]
     },
     "execution_count": 68,
     "metadata": {},
     "output_type": "execute_result"
    }
   ],
   "source": [
    "df.card_country_code.nunique()\n",
    "df.card_country_code.value_counts()"
   ]
  },
  {
   "cell_type": "code",
   "execution_count": 69,
   "metadata": {},
   "outputs": [
    {
     "data": {
      "text/html": [
       "<div>\n",
       "<style scoped>\n",
       "    .dataframe tbody tr th:only-of-type {\n",
       "        vertical-align: middle;\n",
       "    }\n",
       "\n",
       "    .dataframe tbody tr th {\n",
       "        vertical-align: top;\n",
       "    }\n",
       "\n",
       "    .dataframe thead th {\n",
       "        text-align: right;\n",
       "    }\n",
       "</style>\n",
       "<table border=\"1\" class=\"dataframe\">\n",
       "  <thead>\n",
       "    <tr style=\"text-align: right;\">\n",
       "      <th></th>\n",
       "      <th>card_country_code</th>\n",
       "      <th>is_success</th>\n",
       "    </tr>\n",
       "  </thead>\n",
       "  <tbody>\n",
       "    <tr>\n",
       "      <th>113</th>\n",
       "      <td>280</td>\n",
       "      <td>0.000000</td>\n",
       "    </tr>\n",
       "    <tr>\n",
       "      <th>80</th>\n",
       "      <td>188</td>\n",
       "      <td>0.000000</td>\n",
       "    </tr>\n",
       "    <tr>\n",
       "      <th>73</th>\n",
       "      <td>159</td>\n",
       "      <td>0.000000</td>\n",
       "    </tr>\n",
       "    <tr>\n",
       "      <th>28</th>\n",
       "      <td>56</td>\n",
       "      <td>0.000000</td>\n",
       "    </tr>\n",
       "    <tr>\n",
       "      <th>82</th>\n",
       "      <td>196</td>\n",
       "      <td>0.000000</td>\n",
       "    </tr>\n",
       "    <tr>\n",
       "      <th>...</th>\n",
       "      <td>...</td>\n",
       "      <td>...</td>\n",
       "    </tr>\n",
       "    <tr>\n",
       "      <th>106</th>\n",
       "      <td>251</td>\n",
       "      <td>0.666667</td>\n",
       "    </tr>\n",
       "    <tr>\n",
       "      <th>38</th>\n",
       "      <td>81</td>\n",
       "      <td>0.666667</td>\n",
       "    </tr>\n",
       "    <tr>\n",
       "      <th>39</th>\n",
       "      <td>82</td>\n",
       "      <td>0.666667</td>\n",
       "    </tr>\n",
       "    <tr>\n",
       "      <th>61</th>\n",
       "      <td>131</td>\n",
       "      <td>1.000000</td>\n",
       "    </tr>\n",
       "    <tr>\n",
       "      <th>13</th>\n",
       "      <td>22</td>\n",
       "      <td>1.000000</td>\n",
       "    </tr>\n",
       "  </tbody>\n",
       "</table>\n",
       "<p>114 rows × 2 columns</p>\n",
       "</div>"
      ],
      "text/plain": [
       "     card_country_code  is_success\n",
       "113                280    0.000000\n",
       "80                 188    0.000000\n",
       "73                 159    0.000000\n",
       "28                  56    0.000000\n",
       "82                 196    0.000000\n",
       "..                 ...         ...\n",
       "106                251    0.666667\n",
       "38                  81    0.666667\n",
       "39                  82    0.666667\n",
       "61                 131    1.000000\n",
       "13                  22    1.000000\n",
       "\n",
       "[114 rows x 2 columns]"
      ]
     },
     "execution_count": 69,
     "metadata": {},
     "output_type": "execute_result"
    }
   ],
   "source": [
    "group = df.groupby('card_country_code').agg({'is_success': 'mean'}).reset_index()\n",
    "group = group.sort_values('is_success')\n",
    "group"
   ]
  },
  {
   "cell_type": "code",
   "execution_count": null,
   "metadata": {},
   "outputs": [],
   "source": []
  },
  {
   "cell_type": "markdown",
   "metadata": {},
   "source": [
    "### success_orders"
   ]
  },
  {
   "cell_type": "code",
   "execution_count": 71,
   "metadata": {},
   "outputs": [
    {
     "data": {
      "image/png": "[encoded data removed]",
      "text/plain": [
       "<Figure size 1296x576 with 1 Axes>"
      ]
     },
     "metadata": {
      "needs_background": "light"
     },
     "output_type": "display_data"
    }
   ],
   "source": [
    "fig, ax = plt.subplots(1, 1, figsize=(18,8))\n",
    "sns.countplot(data=df, x='success_orders', hue='is_success', ax=ax)\n",
    "ax.set_title('success_orders counts')\n",
    "plt.show()"
   ]
  },
  {
   "cell_type": "code",
   "execution_count": 72,
   "metadata": {},
   "outputs": [
    {
     "data": {
      "text/html": [
       "<div>\n",
       "<style scoped>\n",
       "    .dataframe tbody tr th:only-of-type {\n",
       "        vertical-align: middle;\n",
       "    }\n",
       "\n",
       "    .dataframe tbody tr th {\n",
       "        vertical-align: top;\n",
       "    }\n",
       "\n",
       "    .dataframe thead th {\n",
       "        text-align: right;\n",
       "    }\n",
       "</style>\n",
       "<table border=\"1\" class=\"dataframe\">\n",
       "  <thead>\n",
       "    <tr style=\"text-align: right;\">\n",
       "      <th></th>\n",
       "      <th>success_orders</th>\n",
       "      <th>is_success</th>\n",
       "    </tr>\n",
       "  </thead>\n",
       "  <tbody>\n",
       "    <tr>\n",
       "      <th>9</th>\n",
       "      <td>10</td>\n",
       "      <td>0.000000</td>\n",
       "    </tr>\n",
       "    <tr>\n",
       "      <th>10</th>\n",
       "      <td>11</td>\n",
       "      <td>0.000000</td>\n",
       "    </tr>\n",
       "    <tr>\n",
       "      <th>11</th>\n",
       "      <td>12</td>\n",
       "      <td>0.000000</td>\n",
       "    </tr>\n",
       "    <tr>\n",
       "      <th>7</th>\n",
       "      <td>8</td>\n",
       "      <td>0.083333</td>\n",
       "    </tr>\n",
       "    <tr>\n",
       "      <th>4</th>\n",
       "      <td>5</td>\n",
       "      <td>0.175824</td>\n",
       "    </tr>\n",
       "    <tr>\n",
       "      <th>0</th>\n",
       "      <td>1</td>\n",
       "      <td>0.179562</td>\n",
       "    </tr>\n",
       "    <tr>\n",
       "      <th>8</th>\n",
       "      <td>9</td>\n",
       "      <td>0.200000</td>\n",
       "    </tr>\n",
       "    <tr>\n",
       "      <th>2</th>\n",
       "      <td>3</td>\n",
       "      <td>0.222627</td>\n",
       "    </tr>\n",
       "    <tr>\n",
       "      <th>3</th>\n",
       "      <td>4</td>\n",
       "      <td>0.234350</td>\n",
       "    </tr>\n",
       "    <tr>\n",
       "      <th>1</th>\n",
       "      <td>2</td>\n",
       "      <td>0.285789</td>\n",
       "    </tr>\n",
       "    <tr>\n",
       "      <th>5</th>\n",
       "      <td>6</td>\n",
       "      <td>0.296875</td>\n",
       "    </tr>\n",
       "    <tr>\n",
       "      <th>6</th>\n",
       "      <td>7</td>\n",
       "      <td>0.400000</td>\n",
       "    </tr>\n",
       "    <tr>\n",
       "      <th>12</th>\n",
       "      <td>13</td>\n",
       "      <td>1.000000</td>\n",
       "    </tr>\n",
       "  </tbody>\n",
       "</table>\n",
       "</div>"
      ],
      "text/plain": [
       "    success_orders  is_success\n",
       "9               10    0.000000\n",
       "10              11    0.000000\n",
       "11              12    0.000000\n",
       "7                8    0.083333\n",
       "4                5    0.175824\n",
       "0                1    0.179562\n",
       "8                9    0.200000\n",
       "2                3    0.222627\n",
       "3                4    0.234350\n",
       "1                2    0.285789\n",
       "5                6    0.296875\n",
       "6                7    0.400000\n",
       "12              13    1.000000"
      ]
     },
     "execution_count": 72,
     "metadata": {},
     "output_type": "execute_result"
    }
   ],
   "source": [
    "group = df.groupby('success_orders').agg({'is_success': 'mean'}).reset_index()\n",
    "group = group.sort_values('is_success')\n",
    "group"
   ]
  },
  {
   "cell_type": "markdown",
   "metadata": {},
   "source": [
    "### not_success_orders"
   ]
  },
  {
   "cell_type": "code",
   "execution_count": 73,
   "metadata": {},
   "outputs": [
    {
     "data": {
      "image/png": "[encoded data removed]",
      "text/plain": [
       "<Figure size 1296x576 with 1 Axes>"
      ]
     },
     "metadata": {
      "needs_background": "light"
     },
     "output_type": "display_data"
    }
   ],
   "source": [
    "fig, ax = plt.subplots(1, 1, figsize=(18,8))\n",
    "sns.countplot(data=df, x='not_success_orders', hue='is_success', ax=ax)\n",
    "ax.set_title('not_success_orders counts')\n",
    "plt.show()"
   ]
  },
  {
   "cell_type": "code",
   "execution_count": 74,
   "metadata": {},
   "outputs": [
    {
     "data": {
      "text/html": [
       "<div>\n",
       "<style scoped>\n",
       "    .dataframe tbody tr th:only-of-type {\n",
       "        vertical-align: middle;\n",
       "    }\n",
       "\n",
       "    .dataframe tbody tr th {\n",
       "        vertical-align: top;\n",
       "    }\n",
       "\n",
       "    .dataframe thead th {\n",
       "        text-align: right;\n",
       "    }\n",
       "</style>\n",
       "<table border=\"1\" class=\"dataframe\">\n",
       "  <thead>\n",
       "    <tr style=\"text-align: right;\">\n",
       "      <th></th>\n",
       "      <th>not_success_orders</th>\n",
       "      <th>is_success</th>\n",
       "    </tr>\n",
       "  </thead>\n",
       "  <tbody>\n",
       "    <tr>\n",
       "      <th>18</th>\n",
       "      <td>18</td>\n",
       "      <td>0.000000</td>\n",
       "    </tr>\n",
       "    <tr>\n",
       "      <th>38</th>\n",
       "      <td>54</td>\n",
       "      <td>0.000000</td>\n",
       "    </tr>\n",
       "    <tr>\n",
       "      <th>22</th>\n",
       "      <td>22</td>\n",
       "      <td>0.000000</td>\n",
       "    </tr>\n",
       "    <tr>\n",
       "      <th>24</th>\n",
       "      <td>24</td>\n",
       "      <td>0.000000</td>\n",
       "    </tr>\n",
       "    <tr>\n",
       "      <th>25</th>\n",
       "      <td>25</td>\n",
       "      <td>0.000000</td>\n",
       "    </tr>\n",
       "    <tr>\n",
       "      <th>26</th>\n",
       "      <td>26</td>\n",
       "      <td>0.000000</td>\n",
       "    </tr>\n",
       "    <tr>\n",
       "      <th>27</th>\n",
       "      <td>27</td>\n",
       "      <td>0.000000</td>\n",
       "    </tr>\n",
       "    <tr>\n",
       "      <th>19</th>\n",
       "      <td>19</td>\n",
       "      <td>0.000000</td>\n",
       "    </tr>\n",
       "    <tr>\n",
       "      <th>28</th>\n",
       "      <td>28</td>\n",
       "      <td>0.000000</td>\n",
       "    </tr>\n",
       "    <tr>\n",
       "      <th>30</th>\n",
       "      <td>30</td>\n",
       "      <td>0.000000</td>\n",
       "    </tr>\n",
       "    <tr>\n",
       "      <th>31</th>\n",
       "      <td>31</td>\n",
       "      <td>0.000000</td>\n",
       "    </tr>\n",
       "    <tr>\n",
       "      <th>32</th>\n",
       "      <td>32</td>\n",
       "      <td>0.000000</td>\n",
       "    </tr>\n",
       "    <tr>\n",
       "      <th>33</th>\n",
       "      <td>33</td>\n",
       "      <td>0.000000</td>\n",
       "    </tr>\n",
       "    <tr>\n",
       "      <th>34</th>\n",
       "      <td>34</td>\n",
       "      <td>0.000000</td>\n",
       "    </tr>\n",
       "    <tr>\n",
       "      <th>35</th>\n",
       "      <td>36</td>\n",
       "      <td>0.000000</td>\n",
       "    </tr>\n",
       "    <tr>\n",
       "      <th>29</th>\n",
       "      <td>29</td>\n",
       "      <td>0.000000</td>\n",
       "    </tr>\n",
       "    <tr>\n",
       "      <th>36</th>\n",
       "      <td>39</td>\n",
       "      <td>0.000000</td>\n",
       "    </tr>\n",
       "    <tr>\n",
       "      <th>37</th>\n",
       "      <td>42</td>\n",
       "      <td>0.000000</td>\n",
       "    </tr>\n",
       "    <tr>\n",
       "      <th>17</th>\n",
       "      <td>17</td>\n",
       "      <td>0.000000</td>\n",
       "    </tr>\n",
       "    <tr>\n",
       "      <th>14</th>\n",
       "      <td>14</td>\n",
       "      <td>0.056604</td>\n",
       "    </tr>\n",
       "    <tr>\n",
       "      <th>10</th>\n",
       "      <td>10</td>\n",
       "      <td>0.067416</td>\n",
       "    </tr>\n",
       "    <tr>\n",
       "      <th>11</th>\n",
       "      <td>11</td>\n",
       "      <td>0.071429</td>\n",
       "    </tr>\n",
       "    <tr>\n",
       "      <th>8</th>\n",
       "      <td>8</td>\n",
       "      <td>0.074951</td>\n",
       "    </tr>\n",
       "    <tr>\n",
       "      <th>12</th>\n",
       "      <td>12</td>\n",
       "      <td>0.076923</td>\n",
       "    </tr>\n",
       "    <tr>\n",
       "      <th>6</th>\n",
       "      <td>6</td>\n",
       "      <td>0.084728</td>\n",
       "    </tr>\n",
       "    <tr>\n",
       "      <th>5</th>\n",
       "      <td>5</td>\n",
       "      <td>0.088515</td>\n",
       "    </tr>\n",
       "    <tr>\n",
       "      <th>3</th>\n",
       "      <td>3</td>\n",
       "      <td>0.088785</td>\n",
       "    </tr>\n",
       "    <tr>\n",
       "      <th>4</th>\n",
       "      <td>4</td>\n",
       "      <td>0.090718</td>\n",
       "    </tr>\n",
       "    <tr>\n",
       "      <th>7</th>\n",
       "      <td>7</td>\n",
       "      <td>0.091476</td>\n",
       "    </tr>\n",
       "    <tr>\n",
       "      <th>2</th>\n",
       "      <td>2</td>\n",
       "      <td>0.099049</td>\n",
       "    </tr>\n",
       "    <tr>\n",
       "      <th>13</th>\n",
       "      <td>13</td>\n",
       "      <td>0.109091</td>\n",
       "    </tr>\n",
       "    <tr>\n",
       "      <th>9</th>\n",
       "      <td>9</td>\n",
       "      <td>0.116667</td>\n",
       "    </tr>\n",
       "    <tr>\n",
       "      <th>23</th>\n",
       "      <td>23</td>\n",
       "      <td>0.125000</td>\n",
       "    </tr>\n",
       "    <tr>\n",
       "      <th>1</th>\n",
       "      <td>1</td>\n",
       "      <td>0.129639</td>\n",
       "    </tr>\n",
       "    <tr>\n",
       "      <th>15</th>\n",
       "      <td>15</td>\n",
       "      <td>0.150000</td>\n",
       "    </tr>\n",
       "    <tr>\n",
       "      <th>21</th>\n",
       "      <td>21</td>\n",
       "      <td>0.166667</td>\n",
       "    </tr>\n",
       "    <tr>\n",
       "      <th>16</th>\n",
       "      <td>16</td>\n",
       "      <td>0.304348</td>\n",
       "    </tr>\n",
       "    <tr>\n",
       "      <th>0</th>\n",
       "      <td>0</td>\n",
       "      <td>0.329861</td>\n",
       "    </tr>\n",
       "    <tr>\n",
       "      <th>20</th>\n",
       "      <td>20</td>\n",
       "      <td>0.333333</td>\n",
       "    </tr>\n",
       "    <tr>\n",
       "      <th>39</th>\n",
       "      <td>59</td>\n",
       "      <td>1.000000</td>\n",
       "    </tr>\n",
       "    <tr>\n",
       "      <th>40</th>\n",
       "      <td>72</td>\n",
       "      <td>1.000000</td>\n",
       "    </tr>\n",
       "  </tbody>\n",
       "</table>\n",
       "</div>"
      ],
      "text/plain": [
       "    not_success_orders  is_success\n",
       "18                  18    0.000000\n",
       "38                  54    0.000000\n",
       "22                  22    0.000000\n",
       "24                  24    0.000000\n",
       "25                  25    0.000000\n",
       "26                  26    0.000000\n",
       "27                  27    0.000000\n",
       "19                  19    0.000000\n",
       "28                  28    0.000000\n",
       "30                  30    0.000000\n",
       "31                  31    0.000000\n",
       "32                  32    0.000000\n",
       "33                  33    0.000000\n",
       "34                  34    0.000000\n",
       "35                  36    0.000000\n",
       "29                  29    0.000000\n",
       "36                  39    0.000000\n",
       "37                  42    0.000000\n",
       "17                  17    0.000000\n",
       "14                  14    0.056604\n",
       "10                  10    0.067416\n",
       "11                  11    0.071429\n",
       "8                    8    0.074951\n",
       "12                  12    0.076923\n",
       "6                    6    0.084728\n",
       "5                    5    0.088515\n",
       "3                    3    0.088785\n",
       "4                    4    0.090718\n",
       "7                    7    0.091476\n",
       "2                    2    0.099049\n",
       "13                  13    0.109091\n",
       "9                    9    0.116667\n",
       "23                  23    0.125000\n",
       "1                    1    0.129639\n",
       "15                  15    0.150000\n",
       "21                  21    0.166667\n",
       "16                  16    0.304348\n",
       "0                    0    0.329861\n",
       "20                  20    0.333333\n",
       "39                  59    1.000000\n",
       "40                  72    1.000000"
      ]
     },
     "execution_count": 74,
     "metadata": {},
     "output_type": "execute_result"
    }
   ],
   "source": [
    "group = df.groupby('not_success_orders').agg({'is_success': 'mean'}).reset_index()\n",
    "group = group.sort_values('is_success')\n",
    "group"
   ]
  },
  {
   "cell_type": "code",
   "execution_count": null,
   "metadata": {},
   "outputs": [],
   "source": []
  },
  {
   "cell_type": "markdown",
   "metadata": {},
   "source": [
    "### insufficients"
   ]
  },
  {
   "cell_type": "code",
   "execution_count": 76,
   "metadata": {},
   "outputs": [
    {
     "data": {
      "image/png": "[encoded data removed]",
      "text/plain": [
       "<Figure size 1296x576 with 1 Axes>"
      ]
     },
     "metadata": {
      "needs_background": "light"
     },
     "output_type": "display_data"
    }
   ],
   "source": [
    "fig, ax = plt.subplots(1, 1, figsize=(18,8))\n",
    "sns.countplot(data=df, x='insufficients', hue='is_success', ax=ax)\n",
    "ax.set_title('insufficients counts')\n",
    "plt.show()"
   ]
  },
  {
   "cell_type": "code",
   "execution_count": 77,
   "metadata": {},
   "outputs": [
    {
     "data": {
      "text/html": [
       "<div>\n",
       "<style scoped>\n",
       "    .dataframe tbody tr th:only-of-type {\n",
       "        vertical-align: middle;\n",
       "    }\n",
       "\n",
       "    .dataframe tbody tr th {\n",
       "        vertical-align: top;\n",
       "    }\n",
       "\n",
       "    .dataframe thead th {\n",
       "        text-align: right;\n",
       "    }\n",
       "</style>\n",
       "<table border=\"1\" class=\"dataframe\">\n",
       "  <thead>\n",
       "    <tr style=\"text-align: right;\">\n",
       "      <th></th>\n",
       "      <th>insufficients</th>\n",
       "      <th>is_success</th>\n",
       "    </tr>\n",
       "  </thead>\n",
       "  <tbody>\n",
       "    <tr>\n",
       "      <th>23</th>\n",
       "      <td>30</td>\n",
       "      <td>0.000000</td>\n",
       "    </tr>\n",
       "    <tr>\n",
       "      <th>15</th>\n",
       "      <td>15</td>\n",
       "      <td>0.000000</td>\n",
       "    </tr>\n",
       "    <tr>\n",
       "      <th>14</th>\n",
       "      <td>14</td>\n",
       "      <td>0.000000</td>\n",
       "    </tr>\n",
       "    <tr>\n",
       "      <th>13</th>\n",
       "      <td>13</td>\n",
       "      <td>0.000000</td>\n",
       "    </tr>\n",
       "    <tr>\n",
       "      <th>12</th>\n",
       "      <td>12</td>\n",
       "      <td>0.000000</td>\n",
       "    </tr>\n",
       "    <tr>\n",
       "      <th>22</th>\n",
       "      <td>28</td>\n",
       "      <td>0.000000</td>\n",
       "    </tr>\n",
       "    <tr>\n",
       "      <th>10</th>\n",
       "      <td>10</td>\n",
       "      <td>0.000000</td>\n",
       "    </tr>\n",
       "    <tr>\n",
       "      <th>16</th>\n",
       "      <td>16</td>\n",
       "      <td>0.000000</td>\n",
       "    </tr>\n",
       "    <tr>\n",
       "      <th>17</th>\n",
       "      <td>17</td>\n",
       "      <td>0.000000</td>\n",
       "    </tr>\n",
       "    <tr>\n",
       "      <th>18</th>\n",
       "      <td>18</td>\n",
       "      <td>0.000000</td>\n",
       "    </tr>\n",
       "    <tr>\n",
       "      <th>19</th>\n",
       "      <td>20</td>\n",
       "      <td>0.000000</td>\n",
       "    </tr>\n",
       "    <tr>\n",
       "      <th>20</th>\n",
       "      <td>24</td>\n",
       "      <td>0.000000</td>\n",
       "    </tr>\n",
       "    <tr>\n",
       "      <th>21</th>\n",
       "      <td>25</td>\n",
       "      <td>0.000000</td>\n",
       "    </tr>\n",
       "    <tr>\n",
       "      <th>9</th>\n",
       "      <td>9</td>\n",
       "      <td>0.015385</td>\n",
       "    </tr>\n",
       "    <tr>\n",
       "      <th>7</th>\n",
       "      <td>7</td>\n",
       "      <td>0.038462</td>\n",
       "    </tr>\n",
       "    <tr>\n",
       "      <th>8</th>\n",
       "      <td>8</td>\n",
       "      <td>0.043478</td>\n",
       "    </tr>\n",
       "    <tr>\n",
       "      <th>6</th>\n",
       "      <td>6</td>\n",
       "      <td>0.052557</td>\n",
       "    </tr>\n",
       "    <tr>\n",
       "      <th>5</th>\n",
       "      <td>5</td>\n",
       "      <td>0.074236</td>\n",
       "    </tr>\n",
       "    <tr>\n",
       "      <th>11</th>\n",
       "      <td>11</td>\n",
       "      <td>0.076923</td>\n",
       "    </tr>\n",
       "    <tr>\n",
       "      <th>4</th>\n",
       "      <td>4</td>\n",
       "      <td>0.078663</td>\n",
       "    </tr>\n",
       "    <tr>\n",
       "      <th>3</th>\n",
       "      <td>3</td>\n",
       "      <td>0.081240</td>\n",
       "    </tr>\n",
       "    <tr>\n",
       "      <th>2</th>\n",
       "      <td>2</td>\n",
       "      <td>0.093375</td>\n",
       "    </tr>\n",
       "    <tr>\n",
       "      <th>1</th>\n",
       "      <td>1</td>\n",
       "      <td>0.109060</td>\n",
       "    </tr>\n",
       "    <tr>\n",
       "      <th>0</th>\n",
       "      <td>0</td>\n",
       "      <td>0.306892</td>\n",
       "    </tr>\n",
       "  </tbody>\n",
       "</table>\n",
       "</div>"
      ],
      "text/plain": [
       "    insufficients  is_success\n",
       "23             30    0.000000\n",
       "15             15    0.000000\n",
       "14             14    0.000000\n",
       "13             13    0.000000\n",
       "12             12    0.000000\n",
       "22             28    0.000000\n",
       "10             10    0.000000\n",
       "16             16    0.000000\n",
       "17             17    0.000000\n",
       "18             18    0.000000\n",
       "19             20    0.000000\n",
       "20             24    0.000000\n",
       "21             25    0.000000\n",
       "9               9    0.015385\n",
       "7               7    0.038462\n",
       "8               8    0.043478\n",
       "6               6    0.052557\n",
       "5               5    0.074236\n",
       "11             11    0.076923\n",
       "4               4    0.078663\n",
       "3               3    0.081240\n",
       "2               2    0.093375\n",
       "1               1    0.109060\n",
       "0               0    0.306892"
      ]
     },
     "execution_count": 77,
     "metadata": {},
     "output_type": "execute_result"
    }
   ],
   "source": [
    "group = df.groupby('insufficients').agg({'is_success': 'mean'}).reset_index()\n",
    "group = group.sort_values('is_success')\n",
    "group"
   ]
  },
  {
   "cell_type": "markdown",
   "metadata": {},
   "source": [
    "### root_gross"
   ]
  },
  {
   "cell_type": "code",
   "execution_count": null,
   "metadata": {},
   "outputs": [],
   "source": [
    "fig, ax = plt.subplots(1, 1, figsize=(18,8))\n",
    "sns.histplot(data=df, x='root_gross', hue='is_success', ax=ax)\n",
    "ax.set_title('root_gross')\n",
    "plt.show()"
   ]
  },
  {
   "cell_type": "markdown",
   "metadata": {},
   "source": [
    "### not_root_gross"
   ]
  },
  {
   "cell_type": "code",
   "execution_count": null,
   "metadata": {},
   "outputs": [],
   "source": [
    "fig, ax = plt.subplots(1, 1, figsize=(18,8))\n",
    "sns.histplot(data=df, x='not_root_gross', hue='is_success', ax=ax)\n",
    "ax.set_title('not_root_gross')\n",
    "plt.show()"
   ]
  },
  {
   "cell_type": "code",
   "execution_count": null,
   "metadata": {},
   "outputs": [],
   "source": []
  },
  {
   "cell_type": "code",
   "execution_count": null,
   "metadata": {},
   "outputs": [],
   "source": []
  },
  {
   "cell_type": "code",
   "execution_count": null,
   "metadata": {},
   "outputs": [],
   "source": []
  }
 ],
 "metadata": {
  "kernelspec": {
   "display_name": "Python 3",
   "language": "python",
   "name": "python3"
  },
  "language_info": {
   "codemirror_mode": {
    "name": "ipython",
    "version": 3
   },
   "file_extension": ".py",
   "mimetype": "text/x-python",
   "name": "python",
   "nbconvert_exporter": "python",
   "pygments_lexer": "ipython3",
   "version": "3.8.5"
  }
 },
 "nbformat": 4,
 "nbformat_minor": 5
}
